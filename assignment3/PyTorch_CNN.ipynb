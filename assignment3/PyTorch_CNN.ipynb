{
  "cells": [
    {
      "cell_type": "markdown",
      "metadata": {
        "id": "KclcFpUayODz"
      },
      "source": [
        "# Задание 3.2 - сверточные нейронные сети (CNNs) в PyTorch\n",
        "\n",
        "Это упражнение мы будем выполнять в Google Colab - https://colab.research.google.com/  \n",
        "Google Colab позволяет запускать код в notebook в облаке Google, где можно воспользоваться бесплатным GPU!  \n",
        "\n",
        "Авторы курса благодарят компанию Google и надеятся, что праздник не закончится.\n",
        "\n",
        "Туториал по настройке Google Colab:  \n",
        "https://medium.com/deep-learning-turkey/google-colab-free-gpu-tutorial-e113627b9f5d  \n",
        "(Keras инсталлировать не нужно, наш notebook сам установит PyTorch)\n"
      ]
    },
    {
      "cell_type": "code",
      "source": [
        "!pip3 install torch torchvision"
      ],
      "metadata": {
        "colab": {
          "base_uri": "https://localhost:8080/"
        },
        "id": "eIw-QcXl-oew",
        "outputId": "d0404f45-e2b7-4153-d7a1-b3318fb1be3c"
      },
      "execution_count": 2,
      "outputs": [
        {
          "output_type": "stream",
          "name": "stdout",
          "text": [
            "Looking in indexes: https://pypi.org/simple, https://us-python.pkg.dev/colab-wheels/public/simple/\n",
            "Requirement already satisfied: torch in /usr/local/lib/python3.9/dist-packages (2.0.0+cu118)\n",
            "Requirement already satisfied: torchvision in /usr/local/lib/python3.9/dist-packages (0.15.1+cu118)\n",
            "Requirement already satisfied: networkx in /usr/local/lib/python3.9/dist-packages (from torch) (3.0)\n",
            "Requirement already satisfied: typing-extensions in /usr/local/lib/python3.9/dist-packages (from torch) (4.5.0)\n",
            "Requirement already satisfied: filelock in /usr/local/lib/python3.9/dist-packages (from torch) (3.10.7)\n",
            "Requirement already satisfied: jinja2 in /usr/local/lib/python3.9/dist-packages (from torch) (3.1.2)\n",
            "Requirement already satisfied: sympy in /usr/local/lib/python3.9/dist-packages (from torch) (1.11.1)\n",
            "Requirement already satisfied: triton==2.0.0 in /usr/local/lib/python3.9/dist-packages (from torch) (2.0.0)\n",
            "Requirement already satisfied: lit in /usr/local/lib/python3.9/dist-packages (from triton==2.0.0->torch) (16.0.0)\n",
            "Requirement already satisfied: cmake in /usr/local/lib/python3.9/dist-packages (from triton==2.0.0->torch) (3.25.2)\n",
            "Requirement already satisfied: requests in /usr/local/lib/python3.9/dist-packages (from torchvision) (2.27.1)\n",
            "Requirement already satisfied: numpy in /usr/local/lib/python3.9/dist-packages (from torchvision) (1.22.4)\n",
            "Requirement already satisfied: pillow!=8.3.*,>=5.3.0 in /usr/local/lib/python3.9/dist-packages (from torchvision) (8.4.0)\n",
            "Requirement already satisfied: MarkupSafe>=2.0 in /usr/local/lib/python3.9/dist-packages (from jinja2->torch) (2.1.2)\n",
            "Requirement already satisfied: certifi>=2017.4.17 in /usr/local/lib/python3.9/dist-packages (from requests->torchvision) (2022.12.7)\n",
            "Requirement already satisfied: urllib3<1.27,>=1.21.1 in /usr/local/lib/python3.9/dist-packages (from requests->torchvision) (1.26.15)\n",
            "Requirement already satisfied: idna<4,>=2.5 in /usr/local/lib/python3.9/dist-packages (from requests->torchvision) (3.4)\n",
            "Requirement already satisfied: charset-normalizer~=2.0.0 in /usr/local/lib/python3.9/dist-packages (from requests->torchvision) (2.0.12)\n",
            "Requirement already satisfied: mpmath>=0.19 in /usr/local/lib/python3.9/dist-packages (from sympy->torch) (1.3.0)\n"
          ]
        }
      ]
    },
    {
      "cell_type": "code",
      "execution_count": 2,
      "metadata": {
        "colab": {
          "base_uri": "https://localhost:8080/"
        },
        "id": "FcXBeP1O7cnY",
        "outputId": "7fbef7fe-76ae-4a37-acaf-1965de5f2c4e"
      },
      "outputs": [
        {
          "output_type": "stream",
          "name": "stdout",
          "text": [
            "--2023-04-11 18:01:41--  http://ufldl.stanford.edu/housenumbers/train_32x32.mat\n",
            "Resolving ufldl.stanford.edu (ufldl.stanford.edu)... 171.64.68.10\n",
            "Connecting to ufldl.stanford.edu (ufldl.stanford.edu)|171.64.68.10|:80... connected.\n",
            "HTTP request sent, awaiting response... 200 OK\n",
            "Length: 182040794 (174M) [text/plain]\n",
            "Saving to: ‘train_32x32.mat’\n",
            "\n",
            "train_32x32.mat     100%[===================>] 173.61M  85.4MB/s    in 2.0s    \n",
            "\n",
            "2023-04-11 18:01:43 (85.4 MB/s) - ‘train_32x32.mat’ saved [182040794/182040794]\n",
            "\n",
            "--2023-04-11 18:01:43--  http://ufldl.stanford.edu/housenumbers/test_32x32.mat\n",
            "Reusing existing connection to ufldl.stanford.edu:80.\n",
            "HTTP request sent, awaiting response... 200 OK\n",
            "Length: 64275384 (61M) [text/plain]\n",
            "Saving to: ‘test_32x32.mat’\n",
            "\n",
            "test_32x32.mat      100%[===================>]  61.30M  96.9MB/s    in 0.6s    \n",
            "\n",
            "2023-04-11 18:01:44 (96.9 MB/s) - ‘test_32x32.mat’ saved [64275384/64275384]\n",
            "\n",
            "FINISHED --2023-04-11 18:01:44--\n",
            "Total wall clock time: 2.8s\n",
            "Downloaded: 2 files, 235M in 2.7s (88.2 MB/s)\n"
          ]
        }
      ],
      "source": [
        "!wget -c http://ufldl.stanford.edu/housenumbers/train_32x32.mat http://ufldl.stanford.edu/housenumbers/test_32x32.mat"
      ]
    },
    {
      "cell_type": "code",
      "execution_count": 3,
      "metadata": {
        "id": "-afwWw-Q85vD"
      },
      "outputs": [],
      "source": [
        "from collections import namedtuple\n",
        "\n",
        "import matplotlib.pyplot as plt\n",
        "import numpy as np\n",
        "import PIL\n",
        "import torch\n",
        "import torch.nn as nn\n",
        "import torch.optim as optim\n",
        "import torchvision.datasets as dset\n",
        "from torch.utils.data.sampler import SubsetRandomSampler\n",
        "\n",
        "from torchvision import transforms"
      ]
    },
    {
      "cell_type": "code",
      "execution_count": 4,
      "metadata": {
        "id": "NNU-OD9O9ltP"
      },
      "outputs": [],
      "source": [
        "device = torch.device(\"cuda:0\") # Let's make sure GPU is available!"
      ]
    },
    {
      "cell_type": "markdown",
      "metadata": {
        "id": "UOmtt-dYyOED"
      },
      "source": [
        "# Загружаем данные"
      ]
    },
    {
      "cell_type": "code",
      "execution_count": 5,
      "metadata": {
        "id": "YAvkoRx-9FsP"
      },
      "outputs": [],
      "source": [
        "# First, lets load the dataset\n",
        "data_train = dset.SVHN('./', \n",
        "                       transform=transforms.Compose([\n",
        "                           transforms.ToTensor(),\n",
        "                           transforms.Normalize(mean=[0.43,0.44,0.47],\n",
        "                                               std=[0.20,0.20,0.20])                           \n",
        "                       ])\n",
        "                      )\n",
        "data_test = dset.SVHN('./', split='test', transform=transforms.Compose([\n",
        "                           transforms.ToTensor(),\n",
        "                           transforms.Normalize(mean=[0.43,0.44,0.47],\n",
        "                                               std=[0.20,0.20,0.20])                           \n",
        "                       ]))"
      ]
    },
    {
      "cell_type": "markdown",
      "metadata": {
        "id": "2ip5l9m-yOEH"
      },
      "source": [
        "Разделяем данные на training и validation.\n",
        "\n",
        "На всякий случай для подробностей - https://pytorch.org/tutorials/beginner/data_loading_tutorial.html"
      ]
    },
    {
      "cell_type": "code",
      "execution_count": 6,
      "metadata": {
        "id": "YRnr8CPg7Hli"
      },
      "outputs": [],
      "source": [
        "batch_size = 64\n",
        "\n",
        "data_size = data_train.data.shape[0]\n",
        "validation_split = .2\n",
        "split = int(np.floor(validation_split * data_size))\n",
        "indices = list(range(data_size))\n",
        "np.random.shuffle(indices)\n",
        "\n",
        "train_indices, val_indices = indices[split:], indices[:split]\n",
        "\n",
        "train_sampler = SubsetRandomSampler(train_indices)\n",
        "val_sampler = SubsetRandomSampler(val_indices)\n",
        "\n",
        "train_loader = torch.utils.data.DataLoader(data_train, batch_size=batch_size, \n",
        "                                           sampler=train_sampler)\n",
        "val_loader = torch.utils.data.DataLoader(data_train, batch_size=batch_size,\n",
        "                                         sampler=val_sampler)"
      ]
    },
    {
      "cell_type": "code",
      "execution_count": 7,
      "metadata": {
        "id": "LyYvt-T67PBG"
      },
      "outputs": [],
      "source": [
        "# We'll use a special helper module to shape it into a flat tensor\n",
        "class Flattener(nn.Module):\n",
        "    def forward(self, x):\n",
        "        batch_size, *_ = x.shape\n",
        "        return x.view(batch_size, -1)"
      ]
    },
    {
      "cell_type": "markdown",
      "metadata": {
        "id": "U5IM6EMiyOEM"
      },
      "source": [
        "Создадим простейшую сеть с новыми слоями:  \n",
        "Convolutional - `nn.Conv2d`  \n",
        "MaxPool - `nn.MaxPool2d`"
      ]
    },
    {
      "cell_type": "code",
      "execution_count": 8,
      "metadata": {
        "id": "w9SFVGZP7SQd"
      },
      "outputs": [],
      "source": [
        "nn_model = nn.Sequential(\n",
        "            nn.Conv2d(3, 64, 3, padding=1),\n",
        "            nn.ReLU(inplace=True),\n",
        "            nn.MaxPool2d(4),\n",
        "            nn.Conv2d(64, 64, 3, padding=1),\n",
        "            nn.ReLU(inplace=True),\n",
        "            nn.MaxPool2d(4),    \n",
        "            Flattener(),\n",
        "            nn.Linear(64*2*2, 10),\n",
        "          )\n",
        "\n",
        "nn_model.type(torch.cuda.FloatTensor)\n",
        "nn_model.to(device)\n",
        "\n",
        "loss = nn.CrossEntropyLoss().type(torch.cuda.FloatTensor)\n",
        "optimizer = optim.SGD(nn_model.parameters(), lr=1e-1, weight_decay=1e-4)"
      ]
    },
    {
      "cell_type": "markdown",
      "metadata": {
        "id": "t-TNnKATyOEQ"
      },
      "source": [
        "Восстановите функцию `compute_accuracy` из прошлого задания.  \n",
        "Единственное отличие в новом - она должна передать данные на GPU прежде чем прогонять через модель. Сделайте это так же, как это делает функция `train_model`"
      ]
    },
    {
      "cell_type": "code",
      "source": [
        "def train_model(model, train_loader, val_loader, loss, optimizer, num_epochs):    \n",
        "    loss_history = []\n",
        "    train_history = []\n",
        "    val_history = []\n",
        "    for epoch in range(num_epochs):\n",
        "        model.train() # Enter train mode\n",
        "        \n",
        "        loss_accum = 0\n",
        "        correct_samples = 0\n",
        "        total_samples = 0\n",
        "        for i_step, (x, y) in enumerate(train_loader):\n",
        "          \n",
        "            x_gpu = x.to(device)\n",
        "            y_gpu = y.to(device)\n",
        "            prediction = model(x_gpu)    \n",
        "            loss_value = loss(prediction, y_gpu)\n",
        "            optimizer.zero_grad()\n",
        "            loss_value.backward()\n",
        "            optimizer.step()\n",
        "            \n",
        "            _, indices = torch.max(prediction, 1)\n",
        "            correct_samples += torch.sum(indices == y_gpu)\n",
        "            total_samples += y.shape[0]\n",
        "            \n",
        "            loss_accum += loss_value\n",
        "\n",
        "        ave_loss = loss_accum / i_step\n",
        "        train_accuracy = float(correct_samples) / total_samples\n",
        "        val_accuracy = compute_accuracy(model, val_loader)\n",
        "        \n",
        "        loss_history.append(float(ave_loss))\n",
        "        train_history.append(train_accuracy)\n",
        "        val_history.append(val_accuracy)\n",
        "        \n",
        "        print(\"Average loss: %f, Train accuracy: %f, Val accuracy: %f\" % \n",
        "              (ave_loss, train_accuracy, val_accuracy))\n",
        "        \n",
        "    return loss_history, train_history, val_history\n",
        "        \n",
        "def compute_accuracy(model, loader):\n",
        "    \"\"\"\n",
        "    Computes accuracy on the dataset wrapped in a loader\n",
        "    \n",
        "    Returns: accuracy as a float value between 0 and 1\n",
        "    \"\"\"\n",
        "    model.eval()\n",
        "    # TODO: Copy implementation from previous assignment \n",
        "    # and move the data to device\n",
        "    \n",
        "    correct_samples = 0\n",
        "    total_samples = 0\n",
        "        \n",
        "    for i_step, (x, y) in enumerate(loader):\n",
        "        x_gpu = x.to(device)\n",
        "        y_gpu = y.to(device)\n",
        "        \n",
        "        prediction = model(x_gpu)    \n",
        "        indices = torch.argmax(prediction, 1)\n",
        "        correct_samples += torch.sum(indices == y_gpu)\n",
        "        total_samples += y_gpu.shape[0]\n",
        "        \n",
        "        return float(correct_samples) / total_samples"
      ],
      "metadata": {
        "id": "e57OtXdnfFcW"
      },
      "execution_count": 14,
      "outputs": []
    },
    {
      "cell_type": "code",
      "execution_count": 12,
      "metadata": {
        "id": "2ek3KVQK7hJ6",
        "colab": {
          "base_uri": "https://localhost:8080/"
        },
        "outputId": "d4716e54-cad7-4345-fcf9-f9d51e61e898"
      },
      "outputs": [
        {
          "output_type": "stream",
          "name": "stdout",
          "text": [
            "Average loss: 0.586919, Train accuracy: 0.823414, Val accuracy: 0.781250\n",
            "Average loss: 0.540679, Train accuracy: 0.839266, Val accuracy: 0.843750\n",
            "Average loss: 0.506461, Train accuracy: 0.848923, Val accuracy: 0.828125\n",
            "Average loss: 0.485558, Train accuracy: 0.856022, Val accuracy: 0.812500\n",
            "Average loss: 0.462502, Train accuracy: 0.861960, Val accuracy: 0.828125\n"
          ]
        }
      ],
      "source": [
        "loss_history, train_history, val_history = train_model(\n",
        "    nn_model, train_loader, val_loader, loss, optimizer, 5)"
      ]
    },
    {
      "cell_type": "markdown",
      "metadata": {
        "id": "6a-3a1ZFGEw_"
      },
      "source": [
        "# Аугментация данных (Data augmentation)\n",
        "\n",
        "В работе с изображениями одним из особенно важных методов является аугментация данных - то есть, генерация дополнительных данных для тренировки на основе изначальных.   \n",
        "Таким образом, мы получаем возможность \"увеличить\" набор данных для тренировки, что ведет к лучшей работе сети.\n",
        "Важно, чтобы аугментированные данные были похожи на те, которые могут встретиться в реальной жизни, иначе польза от аугментаций уменьшается и может ухудшить работу сети.\n",
        "\n",
        "С PyTorch идут несколько таких алгоритмов, называемых `transforms`. Более подробно про них можно прочитать тут -\n",
        "https://pytorch.org/tutorials/beginner/data_loading_tutorial.html#transforms\n",
        "\n",
        "Ниже мы используем следующие алгоритмы генерации:\n",
        "- ColorJitter - случайное изменение цвета\n",
        "- RandomHorizontalFlip - горизонтальное отражение с вероятностью 50%\n",
        "- RandomVerticalFlip - вертикальное отражение с вероятностью 50%\n",
        "- RandomRotation - случайный поворот"
      ]
    },
    {
      "cell_type": "code",
      "execution_count": 9,
      "metadata": {
        "id": "jCWMUWmr7t5g"
      },
      "outputs": [],
      "source": [
        "tfs = transforms.Compose([\n",
        "    transforms.ColorJitter(hue=.50, saturation=.50),\n",
        "    transforms.RandomHorizontalFlip(),\n",
        "    transforms.RandomVerticalFlip(),\n",
        "    transforms.RandomRotation(50, interpolation=PIL.Image.BILINEAR),\n",
        "    transforms.ToTensor(),\n",
        "    transforms.Normalize(mean=[0.43,0.44,0.47],\n",
        "                       std=[0.20,0.20,0.20])                           \n",
        "])\n",
        "\n",
        "# Create augmented train dataset\n",
        "data_aug_train = dset.SVHN('./', \n",
        "                       transform=tfs\n",
        "                      )\n",
        "\n",
        "train_aug_loader = torch.utils.data.DataLoader(data_aug_train, \n",
        "                                               batch_size=batch_size, \n",
        "                                               sampler=train_sampler)"
      ]
    },
    {
      "cell_type": "markdown",
      "metadata": {
        "id": "OlamAe-qyOEU"
      },
      "source": [
        "Визуализируем результаты агментации (вообще, смотреть на сгенерированные данные всегда очень полезно)."
      ]
    },
    {
      "cell_type": "code",
      "execution_count": 10,
      "metadata": {
        "id": "YlJJEro1KZ45",
        "colab": {
          "base_uri": "https://localhost:8080/",
          "height": 127
        },
        "outputId": "f685f65a-3fe4-4a56-fceb-22f3cfdfd46f"
      },
      "outputs": [
        {
          "output_type": "display_data",
          "data": {
            "text/plain": [
              "<Figure size 3000x300 with 10 Axes>"
            ],
            "image/png": "[encoded data removed]"
          },
          "metadata": {}
        }
      ],
      "source": [
        "# TODO: Visualize some augmented images!\n",
        "# hint: you can create new datasets and loaders to accomplish this\n",
        "\n",
        "# Based on the visualizations, should we keep all the augmentations?\n",
        "\n",
        "tfs = transforms.Compose([\n",
        "    transforms.ColorJitter(hue=.20, saturation=.20),\n",
        "    transforms.RandomHorizontalFlip(),\n",
        "    transforms.RandomVerticalFlip(),\n",
        "    transforms.RandomRotation(10, interpolation=PIL.Image.BILINEAR),\n",
        "])\n",
        "\n",
        "data_aug_vis = dset.SVHN('./', \n",
        "                       transform=tfs\n",
        "                      )\n",
        "\n",
        "plt.figure(figsize=(30, 3))\n",
        "\n",
        "for i, (x, y) in enumerate(data_aug_vis):\n",
        "    if i == 10:\n",
        "        break\n",
        "    plt.subplot(1, 10, i+1)\n",
        "    plt.grid(False)\n",
        "    plt.imshow(x)\n",
        "    plt.axis('off')"
      ]
    },
    {
      "cell_type": "markdown",
      "metadata": {
        "id": "o2LrmsYHoguB"
      },
      "source": [
        "Все ли агментации одинаково полезны на этом наборе данных? Могут ли быть среди них те, которые собьют модель с толку?\n",
        "\n",
        "Выберите из них только корректные"
      ]
    },
    {
      "cell_type": "code",
      "execution_count": 11,
      "metadata": {
        "id": "evro9ksXGs9u"
      },
      "outputs": [],
      "source": [
        "# TODO: \n",
        "tfs = transforms.Compose([\n",
        "    # TODO: Add good augmentations\n",
        "    transforms.ColorJitter(hue=.20, saturation=.20),\n",
        "    transforms.RandomRotation(10, interpolation=PIL.Image.BILINEAR),\n",
        "    transforms.ToTensor(),\n",
        "    transforms.Normalize(mean=[0.43,0.44,0.47],\n",
        "                       std=[0.20,0.20,0.20])                           \n",
        "])\n",
        "\n",
        "# TODO create new instances of loaders with the augmentations you chose\n",
        "data_aug_train = dset.SVHN('./', transform=tfs)\n",
        "train_aug_loader = torch.utils.data.DataLoader(data_aug_train, \n",
        "                                               batch_size=batch_size, \n",
        "                                               sampler=train_sampler)"
      ]
    },
    {
      "cell_type": "code",
      "execution_count": 23,
      "metadata": {
        "id": "PeO6Zw0DHqPR",
        "colab": {
          "base_uri": "https://localhost:8080/"
        },
        "outputId": "9528a062-ddc2-4164-915c-817425f96eaa"
      },
      "outputs": [
        {
          "output_type": "stream",
          "name": "stdout",
          "text": [
            "Average loss: 0.578908, Train accuracy: 0.823039, Val accuracy: 0.890625\n",
            "Average loss: 0.534614, Train accuracy: 0.836194, Val accuracy: 0.906250\n",
            "Average loss: 0.512094, Train accuracy: 0.845152, Val accuracy: 0.875000\n",
            "Average loss: 0.496148, Train accuracy: 0.848650, Val accuracy: 0.812500\n",
            "Average loss: 0.486980, Train accuracy: 0.853206, Val accuracy: 0.906250\n"
          ]
        }
      ],
      "source": [
        "# Finally, let's train with augmentations!\n",
        "\n",
        "# Note we shouldn't use augmentations on validation\n",
        "\n",
        "loss_history, train_history, val_history = train_model(\n",
        "    nn_model, train_aug_loader, val_loader, loss, optimizer, 5)"
      ]
    },
    {
      "cell_type": "markdown",
      "metadata": {
        "id": "r0bcioK6JBDK"
      },
      "source": [
        "# LeNet\n",
        "Попробуем имплементировать классическую архитектуру сверточной нейронной сети, предложенную Яном ЛеКуном в 1998 году. В свое время она достигла впечатляющих результатов на MNIST, посмотрим как она справится с SVHN?\n",
        "Она описана в статье [\"Gradient Based Learning Applied to Document Recognition\"](http://yann.lecun.com/exdb/publis/pdf/lecun-01a.pdf), попробуйте прочитать ключевые части и имплементировать предложенную архитетуру на PyTorch.\n",
        "\n",
        "Реализовывать слои и функцию ошибки LeNet, которых нет в PyTorch, **не нужно** - просто возьмите их размеры и переведите в уже известные нам Convolutional, Pooling и Fully Connected layers.\n",
        "\n",
        "Если в статье не очень понятно, можно просто погуглить LeNet и разобраться в деталях :)"
      ]
    },
    {
      "cell_type": "code",
      "execution_count": 12,
      "metadata": {
        "id": "ieEzZUglJAUB"
      },
      "outputs": [],
      "source": [
        "# TODO: Implement LeNet-like architecture for SVHN task\n",
        "lenet_model = nn.Sequential(\n",
        "    nn.Conv2d(3, 6, 5),\n",
        "    nn.Tanh(),\n",
        "    nn.MaxPool2d(2, 2),\n",
        "\n",
        "    nn.Conv2d(6, 16, 5),\n",
        "    nn.Tanh(),\n",
        "    nn.MaxPool2d(2, 2),\n",
        "\n",
        "    nn.Flatten(),\n",
        "\n",
        "    nn.Linear(5*5*16, 120),\n",
        "    nn.Tanh(),\n",
        "\n",
        "    nn.Linear(120, 84),\n",
        "    nn.Tanh(),\n",
        "\n",
        "    nn.Linear(84, 10),\n",
        "    nn.Tanh()\n",
        "          )\n",
        "\n",
        "lenet_model.type(torch.cuda.FloatTensor)\n",
        "lenet_model.to(device)\n",
        "\n",
        "loss = nn.CrossEntropyLoss().type(torch.cuda.FloatTensor)\n",
        "optimizer = optim.SGD(lenet_model.parameters(), lr=1e-1, weight_decay=1e-4)"
      ]
    },
    {
      "cell_type": "code",
      "execution_count": 15,
      "metadata": {
        "id": "WMmaPfdeKk9H",
        "colab": {
          "base_uri": "https://localhost:8080/"
        },
        "outputId": "92b48c3b-d57b-4c66-ce2f-1948f8f56d6f"
      },
      "outputs": [
        {
          "output_type": "stream",
          "name": "stdout",
          "text": [
            "Average loss: 1.673473, Train accuracy: 0.531533, Val accuracy: 0.812500\n",
            "Average loss: 1.179888, Train accuracy: 0.802017, Val accuracy: 0.859375\n",
            "Average loss: 1.104005, Train accuracy: 0.833038, Val accuracy: 0.812500\n",
            "Average loss: 1.072081, Train accuracy: 0.847234, Val accuracy: 0.875000\n",
            "Average loss: 1.050261, Train accuracy: 0.857881, Val accuracy: 0.906250\n",
            "Average loss: 1.035855, Train accuracy: 0.864144, Val accuracy: 0.890625\n",
            "Average loss: 1.026658, Train accuracy: 0.869143, Val accuracy: 0.875000\n",
            "Average loss: 1.017262, Train accuracy: 0.873972, Val accuracy: 0.906250\n",
            "Average loss: 1.008449, Train accuracy: 0.879773, Val accuracy: 0.890625\n",
            "Average loss: 1.003512, Train accuracy: 0.881019, Val accuracy: 0.859375\n"
          ]
        }
      ],
      "source": [
        "# Let's train it!\n",
        "loss_history, train_history, val_history = train_model(\n",
        "    lenet_model, train_aug_loader, val_loader, loss, optimizer, 10)"
      ]
    },
    {
      "cell_type": "markdown",
      "metadata": {
        "id": "u_O9qiYySvuj"
      },
      "source": [
        "# Подбор гиперпараметров"
      ]
    },
    {
      "cell_type": "code",
      "execution_count": null,
      "metadata": {
        "id": "i6mhfdQ9K-N3"
      },
      "outputs": [],
      "source": [
        "# The key hyperparameters we're going to tune are learning speed, \n",
        "# annealing rate and regularization (+ different optimizers)\n",
        "\n",
        "Hyperparams = namedtuple(\"Hyperparams\", \n",
        "                         ['learning_rate', 'anneal_epochs', 'reg'])\n",
        "RunResult = namedtuple(\"RunResult\", \n",
        "                       ['model', 'train_history', \n",
        "                        'val_history', 'final_val_accuracy'])\n",
        "\n",
        "learning_rates = [1e0, 1e-1, 1e-2, 1e-3, 1e-4]\n",
        "anneal_coeff = 0.2\n",
        "anneal_epochs = [1, 5, 10, 15, 20, 50]\n",
        "reg = [1e-3, 1e-4, 1e-5, 1e-7]\n",
        "\n",
        "batch_size = 64\n",
        "epoch_num = 10\n",
        "\n",
        "# Record all the runs here\n",
        "# Key should be Hyperparams and values should be RunResult\n",
        "run_record = {} \n",
        "\n",
        "# Use grid search or random search and record all runs in run_record \n",
        "# dictionary. Important: perform search in logarithmic space!\n",
        "\n",
        "# TODO: Your code here!"
      ]
    },
    {
      "cell_type": "code",
      "execution_count": null,
      "metadata": {
        "id": "Y6xExdw8JB1l"
      },
      "outputs": [],
      "source": [
        "best_val_accuracy = None\n",
        "best_hyperparams = None\n",
        "best_run = None\n",
        "\n",
        "for hyperparams, run_result in run_record.items():\n",
        "    if best_val_accuracy is None or \\\n",
        "    best_val_accuracy < run_result.final_val_accuracy:\n",
        "        best_val_accuracy = run_result.final_val_accuracy\n",
        "        best_hyperparams = hyperparams\n",
        "        best_run = run_result\n",
        "        \n",
        "print(\"Best validation accuracy: %4.2f, best hyperparams: %s\" % \n",
        "      (best_val_accuracy, best_hyperparams))\n",
        "        "
      ]
    },
    {
      "cell_type": "markdown",
      "metadata": {
        "id": "LOmsR0uVgtgf"
      },
      "source": [
        "# Свободное упражнение - догоним и перегоним LeNet!\n",
        "\n",
        "Попробуйте найти архитектуру и настройки тренировки, чтобы выступить лучше наших бейзлайнов.\n",
        "\n",
        "Что можно и нужно попробовать:\n",
        "- BatchNormalization (для convolution layers он в PyTorch называется [batchnorm2d](https://pytorch.org/docs/stable/nn.html#batchnorm2d))\n",
        "- Изменить количество слоев и их толщину\n",
        "- Изменять количество эпох тренировки\n",
        "- Попробовать и другие агментации"
      ]
    },
    {
      "cell_type": "code",
      "execution_count": null,
      "metadata": {
        "id": "tSVhD747icoc"
      },
      "outputs": [],
      "source": [
        "best_model = None"
      ]
    },
    {
      "cell_type": "markdown",
      "metadata": {
        "id": "ubeKgBcnhx7N"
      },
      "source": [
        "# Финальный аккорд - проверим лучшую модель на test set\n",
        "\n",
        "В качестве разнообразия - напишите код для прогона модели на test set вы.\n",
        "\n",
        "В результате вы должны натренировать модель, которая покажет более **90%** точности на test set.  \n",
        "Как водится, лучший результат в группе получит дополнительные баллы!"
      ]
    },
    {
      "cell_type": "code",
      "execution_count": null,
      "metadata": {
        "id": "EIqM1kdeh-hd"
      },
      "outputs": [],
      "source": [
        "# TODO Write the code to compute accuracy on test set\n",
        "final_test_accuracy = 0.0\n",
        "print(\"Final test accuracy - \", final_test_accuracy)"
      ]
    },
    {
      "cell_type": "code",
      "execution_count": null,
      "metadata": {
        "id": "BfH6qip6kVX_"
      },
      "outputs": [],
      "source": []
    }
  ],
  "metadata": {
    "accelerator": "GPU",
    "colab": {
      "provenance": []
    },
    "kernelspec": {
      "display_name": "Python 3",
      "language": "python",
      "name": "python3"
    },
    "language_info": {
      "codemirror_mode": {
        "name": "ipython",
        "version": 3
      },
      "file_extension": ".py",
      "mimetype": "text/x-python",
      "name": "python",
      "nbconvert_exporter": "python",
      "pygments_lexer": "ipython3",
      "version": "3.7.0"
    }
  },
  "nbformat": 4,
  "nbformat_minor": 0
}