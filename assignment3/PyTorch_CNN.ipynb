{
  "cells": [
    {
      "cell_type": "markdown",
      "metadata": {
        "id": "KclcFpUayODz"
      },
      "source": [
        "# Задание 3.2 - сверточные нейронные сети (CNNs) в PyTorch\n",
        "\n",
        "Это упражнение мы будем выполнять в Google Colab - https://colab.research.google.com/  \n",
        "Google Colab позволяет запускать код в notebook в облаке Google, где можно воспользоваться бесплатным GPU!  \n",
        "\n",
        "Авторы курса благодарят компанию Google и надеятся, что праздник не закончится.\n",
        "\n",
        "Туториал по настройке Google Colab:  \n",
        "https://medium.com/deep-learning-turkey/google-colab-free-gpu-tutorial-e113627b9f5d  \n",
        "(Keras инсталлировать не нужно, наш notebook сам установит PyTorch)\n"
      ]
    },
    {
      "cell_type": "code",
      "source": [
        "!pip3 install torch torchvision"
      ],
      "metadata": {
        "colab": {
          "base_uri": "https://localhost:8080/"
        },
        "id": "eIw-QcXl-oew",
        "outputId": "d0404f45-e2b7-4153-d7a1-b3318fb1be3c"
      },
      "execution_count": null,
      "outputs": [
        {
          "output_type": "stream",
          "name": "stdout",
          "text": [
            "Looking in indexes: https://pypi.org/simple, https://us-python.pkg.dev/colab-wheels/public/simple/\n",
            "Requirement already satisfied: torch in /usr/local/lib/python3.9/dist-packages (2.0.0+cu118)\n",
            "Requirement already satisfied: torchvision in /usr/local/lib/python3.9/dist-packages (0.15.1+cu118)\n",
            "Requirement already satisfied: networkx in /usr/local/lib/python3.9/dist-packages (from torch) (3.0)\n",
            "Requirement already satisfied: typing-extensions in /usr/local/lib/python3.9/dist-packages (from torch) (4.5.0)\n",
            "Requirement already satisfied: filelock in /usr/local/lib/python3.9/dist-packages (from torch) (3.10.7)\n",
            "Requirement already satisfied: jinja2 in /usr/local/lib/python3.9/dist-packages (from torch) (3.1.2)\n",
            "Requirement already satisfied: sympy in /usr/local/lib/python3.9/dist-packages (from torch) (1.11.1)\n",
            "Requirement already satisfied: triton==2.0.0 in /usr/local/lib/python3.9/dist-packages (from torch) (2.0.0)\n",
            "Requirement already satisfied: lit in /usr/local/lib/python3.9/dist-packages (from triton==2.0.0->torch) (16.0.0)\n",
            "Requirement already satisfied: cmake in /usr/local/lib/python3.9/dist-packages (from triton==2.0.0->torch) (3.25.2)\n",
            "Requirement already satisfied: requests in /usr/local/lib/python3.9/dist-packages (from torchvision) (2.27.1)\n",
            "Requirement already satisfied: numpy in /usr/local/lib/python3.9/dist-packages (from torchvision) (1.22.4)\n",
            "Requirement already satisfied: pillow!=8.3.*,>=5.3.0 in /usr/local/lib/python3.9/dist-packages (from torchvision) (8.4.0)\n",
            "Requirement already satisfied: MarkupSafe>=2.0 in /usr/local/lib/python3.9/dist-packages (from jinja2->torch) (2.1.2)\n",
            "Requirement already satisfied: certifi>=2017.4.17 in /usr/local/lib/python3.9/dist-packages (from requests->torchvision) (2022.12.7)\n",
            "Requirement already satisfied: urllib3<1.27,>=1.21.1 in /usr/local/lib/python3.9/dist-packages (from requests->torchvision) (1.26.15)\n",
            "Requirement already satisfied: idna<4,>=2.5 in /usr/local/lib/python3.9/dist-packages (from requests->torchvision) (3.4)\n",
            "Requirement already satisfied: charset-normalizer~=2.0.0 in /usr/local/lib/python3.9/dist-packages (from requests->torchvision) (2.0.12)\n",
            "Requirement already satisfied: mpmath>=0.19 in /usr/local/lib/python3.9/dist-packages (from sympy->torch) (1.3.0)\n"
          ]
        }
      ]
    },
    {
      "cell_type": "code",
      "execution_count": 2,
      "metadata": {
        "colab": {
          "base_uri": "https://localhost:8080/"
        },
        "id": "FcXBeP1O7cnY",
        "outputId": "f541a94f-6c5c-4e6d-cd49-49d0f8e1308a"
      },
      "outputs": [
        {
          "output_type": "stream",
          "name": "stdout",
          "text": [
            "--2023-04-12 13:33:19--  http://ufldl.stanford.edu/housenumbers/train_32x32.mat\n",
            "Resolving ufldl.stanford.edu (ufldl.stanford.edu)... 171.64.68.10\n",
            "Connecting to ufldl.stanford.edu (ufldl.stanford.edu)|171.64.68.10|:80... connected.\n",
            "HTTP request sent, awaiting response... 200 OK\n",
            "Length: 182040794 (174M) [text/plain]\n",
            "Saving to: ‘train_32x32.mat’\n",
            "\n",
            "train_32x32.mat     100%[===================>] 173.61M  47.6MB/s    in 4.6s    \n",
            "\n",
            "2023-04-12 13:33:24 (38.1 MB/s) - ‘train_32x32.mat’ saved [182040794/182040794]\n",
            "\n",
            "--2023-04-12 13:33:24--  http://ufldl.stanford.edu/housenumbers/test_32x32.mat\n",
            "Reusing existing connection to ufldl.stanford.edu:80.\n",
            "HTTP request sent, awaiting response... 200 OK\n",
            "Length: 64275384 (61M) [text/plain]\n",
            "Saving to: ‘test_32x32.mat’\n",
            "\n",
            "test_32x32.mat      100%[===================>]  61.30M  39.9MB/s    in 1.5s    \n",
            "\n",
            "2023-04-12 13:33:26 (39.9 MB/s) - ‘test_32x32.mat’ saved [64275384/64275384]\n",
            "\n",
            "FINISHED --2023-04-12 13:33:26--\n",
            "Total wall clock time: 6.3s\n",
            "Downloaded: 2 files, 235M in 6.1s (38.6 MB/s)\n"
          ]
        }
      ],
      "source": [
        "!wget -c http://ufldl.stanford.edu/housenumbers/train_32x32.mat http://ufldl.stanford.edu/housenumbers/test_32x32.mat"
      ]
    },
    {
      "cell_type": "code",
      "execution_count": 14,
      "metadata": {
        "id": "-afwWw-Q85vD"
      },
      "outputs": [],
      "source": [
        "from collections import namedtuple\n",
        "import matplotlib.pyplot as plt\n",
        "import numpy as np\n",
        "import PIL\n",
        "\n",
        "import torch\n",
        "import torch.nn as nn\n",
        "import torch.optim as optim\n",
        "from torch.utils.data.sampler import SubsetRandomSampler\n",
        "from torch.optim.lr_scheduler import StepLR\n",
        "\n",
        "from torchvision import transforms\n",
        "import torchvision.datasets as dset"
      ]
    },
    {
      "cell_type": "code",
      "execution_count": 4,
      "metadata": {
        "id": "NNU-OD9O9ltP"
      },
      "outputs": [],
      "source": [
        "device = torch.device(\"cuda:0\") # Let's make sure GPU is available!"
      ]
    },
    {
      "cell_type": "markdown",
      "metadata": {
        "id": "UOmtt-dYyOED"
      },
      "source": [
        "# Загружаем данные"
      ]
    },
    {
      "cell_type": "code",
      "execution_count": 5,
      "metadata": {
        "id": "YAvkoRx-9FsP"
      },
      "outputs": [],
      "source": [
        "# First, lets load the dataset\n",
        "data_train = dset.SVHN('./', \n",
        "                       transform=transforms.Compose([\n",
        "                           transforms.ToTensor(),\n",
        "                           transforms.Normalize(mean=[0.43,0.44,0.47],\n",
        "                                               std=[0.20,0.20,0.20])                           \n",
        "                       ])\n",
        "                      )\n",
        "data_test = dset.SVHN('./', split='test', transform=transforms.Compose([\n",
        "                           transforms.ToTensor(),\n",
        "                           transforms.Normalize(mean=[0.43,0.44,0.47],\n",
        "                                               std=[0.20,0.20,0.20])                           \n",
        "                       ]))"
      ]
    },
    {
      "cell_type": "markdown",
      "metadata": {
        "id": "2ip5l9m-yOEH"
      },
      "source": [
        "Разделяем данные на training и validation.\n",
        "\n",
        "На всякий случай для подробностей - https://pytorch.org/tutorials/beginner/data_loading_tutorial.html"
      ]
    },
    {
      "cell_type": "code",
      "execution_count": 6,
      "metadata": {
        "id": "YRnr8CPg7Hli"
      },
      "outputs": [],
      "source": [
        "batch_size = 64\n",
        "\n",
        "data_size = data_train.data.shape[0]\n",
        "validation_split = .2\n",
        "split = int(np.floor(validation_split * data_size))\n",
        "indices = list(range(data_size))\n",
        "np.random.shuffle(indices)\n",
        "\n",
        "train_indices, val_indices = indices[split:], indices[:split]\n",
        "\n",
        "train_sampler = SubsetRandomSampler(train_indices)\n",
        "val_sampler = SubsetRandomSampler(val_indices)\n",
        "\n",
        "train_loader = torch.utils.data.DataLoader(data_train, batch_size=batch_size, \n",
        "                                           sampler=train_sampler)\n",
        "val_loader = torch.utils.data.DataLoader(data_train, batch_size=batch_size,\n",
        "                                         sampler=val_sampler)"
      ]
    },
    {
      "cell_type": "code",
      "execution_count": 7,
      "metadata": {
        "id": "LyYvt-T67PBG"
      },
      "outputs": [],
      "source": [
        "# We'll use a special helper module to shape it into a flat tensor\n",
        "class Flattener(nn.Module):\n",
        "    def forward(self, x):\n",
        "        batch_size, *_ = x.shape\n",
        "        return x.view(batch_size, -1)"
      ]
    },
    {
      "cell_type": "markdown",
      "metadata": {
        "id": "U5IM6EMiyOEM"
      },
      "source": [
        "Создадим простейшую сеть с новыми слоями:  \n",
        "Convolutional - `nn.Conv2d`  \n",
        "MaxPool - `nn.MaxPool2d`"
      ]
    },
    {
      "cell_type": "code",
      "execution_count": 8,
      "metadata": {
        "id": "w9SFVGZP7SQd"
      },
      "outputs": [],
      "source": [
        "nn_model = nn.Sequential(\n",
        "            nn.Conv2d(3, 64, 3, padding=1),\n",
        "            nn.ReLU(inplace=True),\n",
        "            nn.MaxPool2d(4),\n",
        "            nn.Conv2d(64, 64, 3, padding=1),\n",
        "            nn.ReLU(inplace=True),\n",
        "            nn.MaxPool2d(4),    \n",
        "            Flattener(),\n",
        "            nn.Linear(64*2*2, 10),\n",
        "          )\n",
        "\n",
        "nn_model.type(torch.cuda.FloatTensor)\n",
        "nn_model.to(device)\n",
        "\n",
        "loss = nn.CrossEntropyLoss().type(torch.cuda.FloatTensor)\n",
        "optimizer = optim.SGD(nn_model.parameters(), lr=1e-1, weight_decay=1e-4)"
      ]
    },
    {
      "cell_type": "markdown",
      "metadata": {
        "id": "t-TNnKATyOEQ"
      },
      "source": [
        "Восстановите функцию `compute_accuracy` из прошлого задания.  \n",
        "Единственное отличие в новом - она должна передать данные на GPU прежде чем прогонять через модель. Сделайте это так же, как это делает функция `train_model`"
      ]
    },
    {
      "cell_type": "code",
      "source": [
        "def train_model(model, train_loader, val_loader, loss, \n",
        "                optimizer, num_epochs, scheduler):    \n",
        "    loss_history = []\n",
        "    train_history = []\n",
        "    val_history = []\n",
        "    for epoch in range(num_epochs):\n",
        "        model.train() # Enter train mode\n",
        "        \n",
        "        loss_accum = 0\n",
        "        correct_samples = 0\n",
        "        total_samples = 0\n",
        "        \n",
        "        for i_step, (x, y) in enumerate(train_loader):\n",
        "            x_gpu = x.to(device)\n",
        "            y_gpu = y.to(device)\n",
        "            prediction = model(x_gpu)    \n",
        "            loss_value = loss(prediction, y_gpu)\n",
        "            optimizer.zero_grad()\n",
        "            loss_value.backward()\n",
        "            optimizer.step()\n",
        "            \n",
        "            _, indices = torch.max(prediction, 1)\n",
        "            correct_samples += torch.sum(indices == y_gpu)\n",
        "            total_samples += y.shape[0]\n",
        "            \n",
        "            loss_accum += loss_value\n",
        "\n",
        "        ave_loss = loss_accum / i_step\n",
        "        train_accuracy = float(correct_samples) / total_samples\n",
        "        val_accuracy = compute_accuracy(model, val_loader)\n",
        "\n",
        "        scheduler.step()\n",
        "        \n",
        "        loss_history.append(float(ave_loss))\n",
        "        train_history.append(train_accuracy)\n",
        "        val_history.append(val_accuracy)\n",
        "        \n",
        "        print(\"Average loss: %f, Train accuracy: %f, Val accuracy: %f\" % \n",
        "              (ave_loss, train_accuracy, val_accuracy))\n",
        "        \n",
        "    return loss_history, train_history, val_history\n",
        "        \n",
        "def compute_accuracy(model, loader):\n",
        "    \"\"\"\n",
        "    Computes accuracy on the dataset wrapped in a loader\n",
        "    \n",
        "    Returns: accuracy as a float value between 0 and 1\n",
        "    \"\"\"\n",
        "    model.eval()\n",
        "    # TODO: Copy implementation from previous assignment \n",
        "    # and move the data to device\n",
        "    \n",
        "    correct_samples = 0\n",
        "    total_samples = 0\n",
        "        \n",
        "    for i_step, (x, y) in enumerate(loader):\n",
        "        x_gpu = x.to(device)\n",
        "        y_gpu = y.to(device)\n",
        "        \n",
        "        prediction = model(x_gpu)    \n",
        "        indices = torch.argmax(prediction, 1)\n",
        "        correct_samples += torch.sum(indices == y_gpu)\n",
        "        total_samples += y_gpu.shape[0]\n",
        "        \n",
        "        return float(correct_samples) / total_samples"
      ],
      "metadata": {
        "id": "e57OtXdnfFcW"
      },
      "execution_count": 16,
      "outputs": []
    },
    {
      "cell_type": "code",
      "execution_count": null,
      "metadata": {
        "id": "2ek3KVQK7hJ6",
        "colab": {
          "base_uri": "https://localhost:8080/"
        },
        "outputId": "d4716e54-cad7-4345-fcf9-f9d51e61e898"
      },
      "outputs": [
        {
          "output_type": "stream",
          "name": "stdout",
          "text": [
            "Average loss: 0.586919, Train accuracy: 0.823414, Val accuracy: 0.781250\n",
            "Average loss: 0.540679, Train accuracy: 0.839266, Val accuracy: 0.843750\n",
            "Average loss: 0.506461, Train accuracy: 0.848923, Val accuracy: 0.828125\n",
            "Average loss: 0.485558, Train accuracy: 0.856022, Val accuracy: 0.812500\n",
            "Average loss: 0.462502, Train accuracy: 0.861960, Val accuracy: 0.828125\n"
          ]
        }
      ],
      "source": [
        "loss_history, train_history, val_history = train_model(\n",
        "    nn_model, train_loader, val_loader, loss, optimizer, 5)"
      ]
    },
    {
      "cell_type": "markdown",
      "metadata": {
        "id": "6a-3a1ZFGEw_"
      },
      "source": [
        "# Аугментация данных (Data augmentation)\n",
        "\n",
        "В работе с изображениями одним из особенно важных методов является аугментация данных - то есть, генерация дополнительных данных для тренировки на основе изначальных.   \n",
        "Таким образом, мы получаем возможность \"увеличить\" набор данных для тренировки, что ведет к лучшей работе сети.\n",
        "Важно, чтобы аугментированные данные были похожи на те, которые могут встретиться в реальной жизни, иначе польза от аугментаций уменьшается и может ухудшить работу сети.\n",
        "\n",
        "С PyTorch идут несколько таких алгоритмов, называемых `transforms`. Более подробно про них можно прочитать тут -\n",
        "https://pytorch.org/tutorials/beginner/data_loading_tutorial.html#transforms\n",
        "\n",
        "Ниже мы используем следующие алгоритмы генерации:\n",
        "- ColorJitter - случайное изменение цвета\n",
        "- RandomHorizontalFlip - горизонтальное отражение с вероятностью 50%\n",
        "- RandomVerticalFlip - вертикальное отражение с вероятностью 50%\n",
        "- RandomRotation - случайный поворот"
      ]
    },
    {
      "cell_type": "code",
      "execution_count": 10,
      "metadata": {
        "id": "jCWMUWmr7t5g"
      },
      "outputs": [],
      "source": [
        "tfs = transforms.Compose([\n",
        "    transforms.ColorJitter(hue=.50, saturation=.50),\n",
        "    transforms.RandomHorizontalFlip(),\n",
        "    transforms.RandomVerticalFlip(),\n",
        "    transforms.RandomRotation(50, interpolation=PIL.Image.BILINEAR),\n",
        "    transforms.ToTensor(),\n",
        "    transforms.Normalize(mean=[0.43,0.44,0.47],\n",
        "                       std=[0.20,0.20,0.20])                           \n",
        "])\n",
        "\n",
        "# Create augmented train dataset\n",
        "data_aug_train = dset.SVHN('./', \n",
        "                       transform=tfs\n",
        "                      )\n",
        "\n",
        "train_aug_loader = torch.utils.data.DataLoader(data_aug_train, \n",
        "                                               batch_size=batch_size, \n",
        "                                               sampler=train_sampler)"
      ]
    },
    {
      "cell_type": "markdown",
      "metadata": {
        "id": "OlamAe-qyOEU"
      },
      "source": [
        "Визуализируем результаты агментации (вообще, смотреть на сгенерированные данные всегда очень полезно)."
      ]
    },
    {
      "cell_type": "code",
      "execution_count": 11,
      "metadata": {
        "id": "YlJJEro1KZ45",
        "colab": {
          "base_uri": "https://localhost:8080/",
          "height": 127
        },
        "outputId": "ef26d7f7-2d2c-4337-b15e-7e614da8ee5a"
      },
      "outputs": [
        {
          "output_type": "display_data",
          "data": {
            "text/plain": [
              "<Figure size 3000x300 with 10 Axes>"
            ],
            "image/png": "[encoded data removed]"
          },
          "metadata": {}
        }
      ],
      "source": [
        "# TODO: Visualize some augmented images!\n",
        "# hint: you can create new datasets and loaders to accomplish this\n",
        "\n",
        "# Based on the visualizations, should we keep all the augmentations?\n",
        "\n",
        "tfs = transforms.Compose([\n",
        "    transforms.ColorJitter(hue=.20, saturation=.20),\n",
        "    transforms.RandomHorizontalFlip(),\n",
        "    transforms.RandomVerticalFlip(),\n",
        "    transforms.RandomRotation(10, interpolation=PIL.Image.BILINEAR),\n",
        "])\n",
        "\n",
        "data_aug_vis = dset.SVHN('./', \n",
        "                       transform=tfs\n",
        "                      )\n",
        "\n",
        "plt.figure(figsize=(30, 3))\n",
        "\n",
        "for i, (x, y) in enumerate(data_aug_vis):\n",
        "    if i == 10:\n",
        "        break\n",
        "    plt.subplot(1, 10, i+1)\n",
        "    plt.grid(False)\n",
        "    plt.imshow(x)\n",
        "    plt.axis('off')"
      ]
    },
    {
      "cell_type": "markdown",
      "metadata": {
        "id": "o2LrmsYHoguB"
      },
      "source": [
        "Все ли агментации одинаково полезны на этом наборе данных? Могут ли быть среди них те, которые собьют модель с толку?\n",
        "\n",
        "Выберите из них только корректные"
      ]
    },
    {
      "cell_type": "code",
      "execution_count": 12,
      "metadata": {
        "id": "evro9ksXGs9u"
      },
      "outputs": [],
      "source": [
        "# TODO: \n",
        "tfs = transforms.Compose([\n",
        "    # TODO: Add good augmentations\n",
        "    transforms.ColorJitter(hue=.20, saturation=.20),\n",
        "    transforms.RandomRotation(10, interpolation=PIL.Image.BILINEAR),\n",
        "    transforms.ToTensor(),\n",
        "    transforms.Normalize(mean=[0.43,0.44,0.47],\n",
        "                       std=[0.20,0.20,0.20])                           \n",
        "])\n",
        "\n",
        "# TODO create new instances of loaders with the augmentations you chose\n",
        "data_aug_train = dset.SVHN('./', transform=tfs)\n",
        "train_aug_loader = torch.utils.data.DataLoader(data_aug_train, \n",
        "                                               batch_size=batch_size, \n",
        "                                               sampler=train_sampler)"
      ]
    },
    {
      "cell_type": "code",
      "execution_count": null,
      "metadata": {
        "id": "PeO6Zw0DHqPR",
        "colab": {
          "base_uri": "https://localhost:8080/"
        },
        "outputId": "9528a062-ddc2-4164-915c-817425f96eaa"
      },
      "outputs": [
        {
          "output_type": "stream",
          "name": "stdout",
          "text": [
            "Average loss: 0.578908, Train accuracy: 0.823039, Val accuracy: 0.890625\n",
            "Average loss: 0.534614, Train accuracy: 0.836194, Val accuracy: 0.906250\n",
            "Average loss: 0.512094, Train accuracy: 0.845152, Val accuracy: 0.875000\n",
            "Average loss: 0.496148, Train accuracy: 0.848650, Val accuracy: 0.812500\n",
            "Average loss: 0.486980, Train accuracy: 0.853206, Val accuracy: 0.906250\n"
          ]
        }
      ],
      "source": [
        "# Finally, let's train with augmentations!\n",
        "\n",
        "# Note we shouldn't use augmentations on validation\n",
        "\n",
        "loss_history, train_history, val_history = train_model(\n",
        "    nn_model, train_aug_loader, val_loader, loss, optimizer, 5)"
      ]
    },
    {
      "cell_type": "markdown",
      "metadata": {
        "id": "r0bcioK6JBDK"
      },
      "source": [
        "# LeNet\n",
        "Попробуем имплементировать классическую архитектуру сверточной нейронной сети, предложенную Яном ЛеКуном в 1998 году. В свое время она достигла впечатляющих результатов на MNIST, посмотрим как она справится с SVHN?\n",
        "Она описана в статье [\"Gradient Based Learning Applied to Document Recognition\"](http://yann.lecun.com/exdb/publis/pdf/lecun-01a.pdf), попробуйте прочитать ключевые части и имплементировать предложенную архитетуру на PyTorch.\n",
        "\n",
        "Реализовывать слои и функцию ошибки LeNet, которых нет в PyTorch, **не нужно** - просто возьмите их размеры и переведите в уже известные нам Convolutional, Pooling и Fully Connected layers.\n",
        "\n",
        "Если в статье не очень понятно, можно просто погуглить LeNet и разобраться в деталях :)"
      ]
    },
    {
      "cell_type": "code",
      "execution_count": 13,
      "metadata": {
        "id": "ieEzZUglJAUB"
      },
      "outputs": [],
      "source": [
        "# TODO: Implement LeNet-like architecture for SVHN task\n",
        "lenet_model = nn.Sequential(\n",
        "    nn.Conv2d(3, 6, 5),\n",
        "    nn.Tanh(),\n",
        "    nn.MaxPool2d(2, 2),\n",
        "\n",
        "    nn.Conv2d(6, 16, 5),\n",
        "    nn.Tanh(),\n",
        "    nn.MaxPool2d(2, 2),\n",
        "\n",
        "    nn.Flatten(),\n",
        "\n",
        "    nn.Linear(5*5*16, 120),\n",
        "    nn.Tanh(),\n",
        "\n",
        "    nn.Linear(120, 84),\n",
        "    nn.Tanh(),\n",
        "\n",
        "    nn.Linear(84, 10),\n",
        "    nn.Tanh()\n",
        "          )\n",
        "\n",
        "lenet_model.type(torch.cuda.FloatTensor)\n",
        "lenet_model.to(device)\n",
        "\n",
        "loss = nn.CrossEntropyLoss().type(torch.cuda.FloatTensor)\n",
        "optimizer = optim.SGD(lenet_model.parameters(), lr=1e-1, weight_decay=1e-4)"
      ]
    },
    {
      "cell_type": "code",
      "execution_count": null,
      "metadata": {
        "id": "WMmaPfdeKk9H",
        "colab": {
          "base_uri": "https://localhost:8080/"
        },
        "outputId": "92b48c3b-d57b-4c66-ce2f-1948f8f56d6f"
      },
      "outputs": [
        {
          "output_type": "stream",
          "name": "stdout",
          "text": [
            "Average loss: 1.673473, Train accuracy: 0.531533, Val accuracy: 0.812500\n",
            "Average loss: 1.179888, Train accuracy: 0.802017, Val accuracy: 0.859375\n",
            "Average loss: 1.104005, Train accuracy: 0.833038, Val accuracy: 0.812500\n",
            "Average loss: 1.072081, Train accuracy: 0.847234, Val accuracy: 0.875000\n",
            "Average loss: 1.050261, Train accuracy: 0.857881, Val accuracy: 0.906250\n",
            "Average loss: 1.035855, Train accuracy: 0.864144, Val accuracy: 0.890625\n",
            "Average loss: 1.026658, Train accuracy: 0.869143, Val accuracy: 0.875000\n",
            "Average loss: 1.017262, Train accuracy: 0.873972, Val accuracy: 0.906250\n",
            "Average loss: 1.008449, Train accuracy: 0.879773, Val accuracy: 0.890625\n",
            "Average loss: 1.003512, Train accuracy: 0.881019, Val accuracy: 0.859375\n"
          ]
        }
      ],
      "source": [
        "# Let's train it!\n",
        "loss_history, train_history, val_history = train_model(\n",
        "    lenet_model, train_aug_loader, val_loader, loss, optimizer, 10)"
      ]
    },
    {
      "cell_type": "markdown",
      "metadata": {
        "id": "u_O9qiYySvuj"
      },
      "source": [
        "# Подбор гиперпараметров"
      ]
    },
    {
      "cell_type": "code",
      "execution_count": 18,
      "metadata": {
        "id": "i6mhfdQ9K-N3",
        "colab": {
          "base_uri": "https://localhost:8080/",
          "height": 1000
        },
        "outputId": "9d41ee90-e7c2-4351-b603-116c61605aca"
      },
      "outputs": [
        {
          "output_type": "stream",
          "name": "stdout",
          "text": [
            "Adjusting learning rate of group 0 to 1.0000e+00.\n",
            "Current hyperparameters: Hyperparams(learning_rate=1.0, regs=0.001, anneal_epochs=5)\n",
            "\n",
            "Adjusting learning rate of group 0 to 1.0000e+00.\n",
            "Average loss: 1.273339, Train accuracy: 0.725369, Val accuracy: 0.843750\n",
            "Adjusting learning rate of group 0 to 1.0000e+00.\n",
            "Average loss: 1.212812, Train accuracy: 0.761031, Val accuracy: 0.703125\n",
            "Adjusting learning rate of group 0 to 1.0000e+00.\n",
            "Average loss: 1.199943, Train accuracy: 0.767140, Val accuracy: 0.718750\n",
            "Adjusting learning rate of group 0 to 1.0000e+00.\n",
            "Average loss: 1.198375, Train accuracy: 0.768164, Val accuracy: 0.828125\n",
            "Adjusting learning rate of group 0 to 2.0000e-01.\n",
            "Average loss: 1.183550, Train accuracy: 0.776303, Val accuracy: 0.750000\n",
            "Adjusting learning rate of group 0 to 2.0000e-01.\n",
            "Average loss: 1.057688, Train accuracy: 0.849521, Val accuracy: 0.843750\n",
            "Adjusting learning rate of group 0 to 2.0000e-01.\n",
            "Average loss: 1.035896, Train accuracy: 0.864314, Val accuracy: 0.859375\n",
            "Adjusting learning rate of group 0 to 2.0000e-01.\n",
            "Average loss: 1.026995, Train accuracy: 0.871549, Val accuracy: 0.906250\n",
            "Adjusting learning rate of group 0 to 2.0000e-01.\n",
            "Average loss: 1.025924, Train accuracy: 0.873477, Val accuracy: 0.859375\n",
            "Adjusting learning rate of group 0 to 4.0000e-02.\n",
            "Average loss: 1.024746, Train accuracy: 0.872266, Val accuracy: 0.859375\n",
            "Adjusting learning rate of group 0 to 1.0000e+00.\n",
            "Current hyperparameters: Hyperparams(learning_rate=1.0, regs=0.001, anneal_epochs=15)\n",
            "\n",
            "Adjusting learning rate of group 0 to 1.0000e+00.\n",
            "Average loss: 1.211693, Train accuracy: 0.762226, Val accuracy: 0.750000\n",
            "Adjusting learning rate of group 0 to 1.0000e+00.\n",
            "Average loss: 1.186641, Train accuracy: 0.776371, Val accuracy: 0.796875\n",
            "Adjusting learning rate of group 0 to 1.0000e+00.\n",
            "Average loss: 1.182872, Train accuracy: 0.778350, Val accuracy: 0.843750\n",
            "Adjusting learning rate of group 0 to 1.0000e+00.\n",
            "Average loss: 1.199633, Train accuracy: 0.769170, Val accuracy: 0.812500\n",
            "Adjusting learning rate of group 0 to 1.0000e+00.\n",
            "Average loss: 1.176041, Train accuracy: 0.781746, Val accuracy: 0.796875\n",
            "Adjusting learning rate of group 0 to 1.0000e+00.\n",
            "Average loss: 1.176332, Train accuracy: 0.781780, Val accuracy: 0.812500\n",
            "Adjusting learning rate of group 0 to 1.0000e+00.\n",
            "Average loss: 1.178285, Train accuracy: 0.781029, Val accuracy: 0.718750\n",
            "Adjusting learning rate of group 0 to 1.0000e+00.\n",
            "Average loss: 1.170024, Train accuracy: 0.786865, Val accuracy: 0.750000\n",
            "Adjusting learning rate of group 0 to 1.0000e+00.\n",
            "Average loss: 1.171825, Train accuracy: 0.785585, Val accuracy: 0.687500\n",
            "Adjusting learning rate of group 0 to 1.0000e+00.\n",
            "Average loss: 1.167145, Train accuracy: 0.786609, Val accuracy: 0.796875\n",
            "Adjusting learning rate of group 0 to 1.0000e+00.\n",
            "Current hyperparameters: Hyperparams(learning_rate=1.0, regs=0.001, anneal_epochs=20)\n",
            "\n",
            "Adjusting learning rate of group 0 to 1.0000e+00.\n",
            "Average loss: 1.168418, Train accuracy: 0.787701, Val accuracy: 0.812500\n",
            "Adjusting learning rate of group 0 to 1.0000e+00.\n",
            "Average loss: 1.210819, Train accuracy: 0.764239, Val accuracy: 0.890625\n",
            "Adjusting learning rate of group 0 to 1.0000e+00.\n",
            "Average loss: 1.166916, Train accuracy: 0.788213, Val accuracy: 0.828125\n",
            "Adjusting learning rate of group 0 to 1.0000e+00.\n",
            "Average loss: 1.173571, Train accuracy: 0.784186, Val accuracy: 0.828125\n",
            "Adjusting learning rate of group 0 to 1.0000e+00.\n",
            "Average loss: 1.178969, Train accuracy: 0.781626, Val accuracy: 0.890625\n",
            "Adjusting learning rate of group 0 to 1.0000e+00.\n",
            "Average loss: 1.203026, Train accuracy: 0.766918, Val accuracy: 0.828125\n",
            "Adjusting learning rate of group 0 to 1.0000e+00.\n",
            "Average loss: 1.207630, Train accuracy: 0.763113, Val accuracy: 0.640625\n",
            "Adjusting learning rate of group 0 to 1.0000e+00.\n",
            "Average loss: 1.194165, Train accuracy: 0.770757, Val accuracy: 0.828125\n",
            "Adjusting learning rate of group 0 to 1.0000e+00.\n",
            "Average loss: 1.183476, Train accuracy: 0.775688, Val accuracy: 0.796875\n",
            "Adjusting learning rate of group 0 to 1.0000e+00.\n",
            "Average loss: 1.176322, Train accuracy: 0.781422, Val accuracy: 0.734375\n",
            "Adjusting learning rate of group 0 to 1.0000e+00.\n",
            "Current hyperparameters: Hyperparams(learning_rate=1.0, regs=0.001, anneal_epochs=50)\n",
            "\n",
            "Adjusting learning rate of group 0 to 1.0000e+00.\n",
            "Average loss: 1.197118, Train accuracy: 0.771047, Val accuracy: 0.718750\n",
            "Adjusting learning rate of group 0 to 1.0000e+00.\n",
            "Average loss: 1.166601, Train accuracy: 0.787923, Val accuracy: 0.906250\n",
            "Adjusting learning rate of group 0 to 1.0000e+00.\n",
            "Average loss: 1.179664, Train accuracy: 0.778589, Val accuracy: 0.765625\n",
            "Adjusting learning rate of group 0 to 1.0000e+00.\n",
            "Average loss: 1.169062, Train accuracy: 0.785414, Val accuracy: 0.765625\n",
            "Adjusting learning rate of group 0 to 1.0000e+00.\n",
            "Average loss: 1.166592, Train accuracy: 0.788844, Val accuracy: 0.750000\n",
            "Adjusting learning rate of group 0 to 1.0000e+00.\n",
            "Average loss: 1.197306, Train accuracy: 0.770587, Val accuracy: 0.734375\n",
            "Adjusting learning rate of group 0 to 1.0000e+00.\n",
            "Average loss: 1.194017, Train accuracy: 0.771866, Val accuracy: 0.890625\n",
            "Adjusting learning rate of group 0 to 1.0000e+00.\n",
            "Average loss: 1.176499, Train accuracy: 0.782428, Val accuracy: 0.765625\n",
            "Adjusting learning rate of group 0 to 1.0000e+00.\n",
            "Average loss: 1.170308, Train accuracy: 0.786797, Val accuracy: 0.796875\n",
            "Adjusting learning rate of group 0 to 1.0000e+00.\n",
            "Average loss: 1.165413, Train accuracy: 0.789561, Val accuracy: 0.781250\n",
            "Adjusting learning rate of group 0 to 1.0000e+00.\n",
            "Current hyperparameters: Hyperparams(learning_rate=1.0, regs=0.0001, anneal_epochs=5)\n",
            "\n",
            "Adjusting learning rate of group 0 to 1.0000e+00.\n",
            "Average loss: 1.153764, Train accuracy: 0.792700, Val accuracy: 0.843750\n",
            "Adjusting learning rate of group 0 to 1.0000e+00.\n",
            "Average loss: 1.130174, Train accuracy: 0.806522, Val accuracy: 0.781250\n",
            "Adjusting learning rate of group 0 to 1.0000e+00.\n",
            "Average loss: 1.126052, Train accuracy: 0.807887, Val accuracy: 0.828125\n",
            "Adjusting learning rate of group 0 to 1.0000e+00.\n",
            "Average loss: 1.126560, Train accuracy: 0.808552, Val accuracy: 0.828125\n",
            "Adjusting learning rate of group 0 to 2.0000e-01.\n",
            "Average loss: 1.115956, Train accuracy: 0.812101, Val accuracy: 0.656250\n",
            "Adjusting learning rate of group 0 to 2.0000e-01.\n",
            "Average loss: 1.059772, Train accuracy: 0.844299, Val accuracy: 0.875000\n",
            "Adjusting learning rate of group 0 to 2.0000e-01.\n",
            "Average loss: 1.037979, Train accuracy: 0.856943, Val accuracy: 0.859375\n",
            "Adjusting learning rate of group 0 to 2.0000e-01.\n",
            "Average loss: 1.031016, Train accuracy: 0.860066, Val accuracy: 0.859375\n",
            "Adjusting learning rate of group 0 to 2.0000e-01.\n",
            "Average loss: 1.021843, Train accuracy: 0.864980, Val accuracy: 0.906250\n",
            "Adjusting learning rate of group 0 to 4.0000e-02.\n",
            "Average loss: 1.016835, Train accuracy: 0.868631, Val accuracy: 0.718750\n",
            "Adjusting learning rate of group 0 to 1.0000e+00.\n",
            "Current hyperparameters: Hyperparams(learning_rate=1.0, regs=0.0001, anneal_epochs=15)\n",
            "\n",
            "Adjusting learning rate of group 0 to 1.0000e+00.\n",
            "Average loss: 1.113093, Train accuracy: 0.814985, Val accuracy: 0.828125\n",
            "Adjusting learning rate of group 0 to 1.0000e+00.\n",
            "Average loss: 1.108185, Train accuracy: 0.819234, Val accuracy: 0.859375\n",
            "Adjusting learning rate of group 0 to 1.0000e+00.\n",
            "Average loss: 1.163233, Train accuracy: 0.790141, Val accuracy: 0.875000\n",
            "Adjusting learning rate of group 0 to 1.0000e+00.\n",
            "Average loss: 1.117199, Train accuracy: 0.811692, Val accuracy: 0.765625\n",
            "Adjusting learning rate of group 0 to 1.0000e+00.\n",
            "Average loss: 1.117263, Train accuracy: 0.814217, Val accuracy: 0.812500\n",
            "Adjusting learning rate of group 0 to 1.0000e+00.\n",
            "Average loss: 1.121573, Train accuracy: 0.810838, Val accuracy: 0.796875\n",
            "Adjusting learning rate of group 0 to 1.0000e+00.\n",
            "Average loss: 1.118538, Train accuracy: 0.811948, Val accuracy: 0.812500\n",
            "Adjusting learning rate of group 0 to 1.0000e+00.\n",
            "Average loss: 1.115256, Train accuracy: 0.813330, Val accuracy: 0.875000\n",
            "Adjusting learning rate of group 0 to 1.0000e+00.\n",
            "Average loss: 1.123108, Train accuracy: 0.807631, Val accuracy: 0.921875\n",
            "Adjusting learning rate of group 0 to 1.0000e+00.\n",
            "Average loss: 1.130335, Train accuracy: 0.805191, Val accuracy: 0.875000\n",
            "Adjusting learning rate of group 0 to 1.0000e+00.\n",
            "Current hyperparameters: Hyperparams(learning_rate=1.0, regs=0.0001, anneal_epochs=20)\n",
            "\n",
            "Adjusting learning rate of group 0 to 1.0000e+00.\n",
            "Average loss: 1.117183, Train accuracy: 0.813330, Val accuracy: 0.796875\n",
            "Adjusting learning rate of group 0 to 1.0000e+00.\n",
            "Average loss: 1.145715, Train accuracy: 0.797376, Val accuracy: 0.843750\n",
            "Adjusting learning rate of group 0 to 1.0000e+00.\n",
            "Average loss: 1.116256, Train accuracy: 0.813330, Val accuracy: 0.765625\n",
            "Adjusting learning rate of group 0 to 1.0000e+00.\n",
            "Average loss: 1.118285, Train accuracy: 0.811709, Val accuracy: 0.828125\n",
            "Adjusting learning rate of group 0 to 1.0000e+00.\n",
            "Average loss: 1.170108, Train accuracy: 0.785568, Val accuracy: 0.781250\n",
            "Adjusting learning rate of group 0 to 1.0000e+00.\n",
            "Average loss: 1.119724, Train accuracy: 0.811982, Val accuracy: 0.734375\n",
            "Adjusting learning rate of group 0 to 1.0000e+00.\n",
            "Average loss: 1.119738, Train accuracy: 0.810514, Val accuracy: 0.781250\n",
            "Adjusting learning rate of group 0 to 1.0000e+00.\n",
            "Average loss: 1.115957, Train accuracy: 0.814609, Val accuracy: 0.828125\n",
            "Adjusting learning rate of group 0 to 1.0000e+00.\n",
            "Average loss: 1.111518, Train accuracy: 0.815036, Val accuracy: 0.796875\n",
            "Adjusting learning rate of group 0 to 1.0000e+00.\n",
            "Average loss: 1.108621, Train accuracy: 0.817084, Val accuracy: 0.812500\n",
            "Adjusting learning rate of group 0 to 1.0000e+00.\n",
            "Current hyperparameters: Hyperparams(learning_rate=1.0, regs=0.0001, anneal_epochs=50)\n",
            "\n",
            "Adjusting learning rate of group 0 to 1.0000e+00.\n",
            "Average loss: 1.120330, Train accuracy: 0.810804, Val accuracy: 0.828125\n",
            "Adjusting learning rate of group 0 to 1.0000e+00.\n",
            "Average loss: 1.114563, Train accuracy: 0.814661, Val accuracy: 0.812500\n",
            "Adjusting learning rate of group 0 to 1.0000e+00.\n",
            "Average loss: 1.129704, Train accuracy: 0.807272, Val accuracy: 0.812500\n",
            "Adjusting learning rate of group 0 to 1.0000e+00.\n",
            "Average loss: 1.120501, Train accuracy: 0.810258, Val accuracy: 0.828125\n",
            "Adjusting learning rate of group 0 to 1.0000e+00.\n",
            "Average loss: 1.113130, Train accuracy: 0.814524, Val accuracy: 0.906250\n",
            "Adjusting learning rate of group 0 to 1.0000e+00.\n",
            "Average loss: 1.137975, Train accuracy: 0.802955, Val accuracy: 0.890625\n",
            "Adjusting learning rate of group 0 to 1.0000e+00.\n",
            "Average loss: 1.121556, Train accuracy: 0.811419, Val accuracy: 0.750000\n",
            "Adjusting learning rate of group 0 to 1.0000e+00.\n",
            "Average loss: 1.118385, Train accuracy: 0.812323, Val accuracy: 0.843750\n",
            "Adjusting learning rate of group 0 to 1.0000e+00.\n",
            "Average loss: 1.141874, Train accuracy: 0.802222, Val accuracy: 0.734375\n",
            "Adjusting learning rate of group 0 to 1.0000e+00.\n",
            "Average loss: 1.117066, Train accuracy: 0.811094, Val accuracy: 0.750000\n",
            "Adjusting learning rate of group 0 to 1.0000e+00.\n",
            "Current hyperparameters: Hyperparams(learning_rate=1.0, regs=1e-05, anneal_epochs=5)\n",
            "\n",
            "Adjusting learning rate of group 0 to 1.0000e+00.\n",
            "Average loss: 1.107183, Train accuracy: 0.819865, Val accuracy: 0.843750\n"
          ]
        },
        {
          "output_type": "error",
          "ename": "KeyboardInterrupt",
          "evalue": "ignored",
          "traceback": [
            "\u001b[0;31m---------------------------------------------------------------------------\u001b[0m",
            "\u001b[0;31mKeyboardInterrupt\u001b[0m                         Traceback (most recent call last)",
            "\u001b[0;32m<ipython-input-18-7a987cae572c>\u001b[0m in \u001b[0;36m<cell line: 29>\u001b[0;34m()\u001b[0m\n\u001b[1;32m     41\u001b[0m       \u001b[0mprint\u001b[0m\u001b[0;34m(\u001b[0m\u001b[0;34mf'Current hyperparameters: {key}\\n'\u001b[0m\u001b[0;34m)\u001b[0m\u001b[0;34m\u001b[0m\u001b[0;34m\u001b[0m\u001b[0m\n\u001b[1;32m     42\u001b[0m \u001b[0;34m\u001b[0m\u001b[0m\n\u001b[0;32m---> 43\u001b[0;31m       loss_history, train_history, val_history = train_model(\n\u001b[0m\u001b[1;32m     44\u001b[0m           \u001b[0mlenet_model\u001b[0m\u001b[0;34m,\u001b[0m \u001b[0mtrain_aug_loader\u001b[0m\u001b[0;34m,\u001b[0m \u001b[0mval_loader\u001b[0m\u001b[0;34m,\u001b[0m \u001b[0mloss\u001b[0m\u001b[0;34m,\u001b[0m\u001b[0;34m\u001b[0m\u001b[0;34m\u001b[0m\u001b[0m\n\u001b[1;32m     45\u001b[0m           optimizer, 10, scheduler=scheduler)\n",
            "\u001b[0;32m<ipython-input-16-00eee13f0da8>\u001b[0m in \u001b[0;36mtrain_model\u001b[0;34m(model, train_loader, val_loader, loss, optimizer, num_epochs, scheduler)\u001b[0m\n\u001b[1;32m     11\u001b[0m         \u001b[0mtotal_samples\u001b[0m \u001b[0;34m=\u001b[0m \u001b[0;36m0\u001b[0m\u001b[0;34m\u001b[0m\u001b[0;34m\u001b[0m\u001b[0m\n\u001b[1;32m     12\u001b[0m \u001b[0;34m\u001b[0m\u001b[0m\n\u001b[0;32m---> 13\u001b[0;31m         \u001b[0;32mfor\u001b[0m \u001b[0mi_step\u001b[0m\u001b[0;34m,\u001b[0m \u001b[0;34m(\u001b[0m\u001b[0mx\u001b[0m\u001b[0;34m,\u001b[0m \u001b[0my\u001b[0m\u001b[0;34m)\u001b[0m \u001b[0;32min\u001b[0m \u001b[0menumerate\u001b[0m\u001b[0;34m(\u001b[0m\u001b[0mtrain_loader\u001b[0m\u001b[0;34m)\u001b[0m\u001b[0;34m:\u001b[0m\u001b[0;34m\u001b[0m\u001b[0;34m\u001b[0m\u001b[0m\n\u001b[0m\u001b[1;32m     14\u001b[0m             \u001b[0mx_gpu\u001b[0m \u001b[0;34m=\u001b[0m \u001b[0mx\u001b[0m\u001b[0;34m.\u001b[0m\u001b[0mto\u001b[0m\u001b[0;34m(\u001b[0m\u001b[0mdevice\u001b[0m\u001b[0;34m)\u001b[0m\u001b[0;34m\u001b[0m\u001b[0;34m\u001b[0m\u001b[0m\n\u001b[1;32m     15\u001b[0m             \u001b[0my_gpu\u001b[0m \u001b[0;34m=\u001b[0m \u001b[0my\u001b[0m\u001b[0;34m.\u001b[0m\u001b[0mto\u001b[0m\u001b[0;34m(\u001b[0m\u001b[0mdevice\u001b[0m\u001b[0;34m)\u001b[0m\u001b[0;34m\u001b[0m\u001b[0;34m\u001b[0m\u001b[0m\n",
            "\u001b[0;32m/usr/local/lib/python3.9/dist-packages/torch/utils/data/dataloader.py\u001b[0m in \u001b[0;36m__next__\u001b[0;34m(self)\u001b[0m\n\u001b[1;32m    632\u001b[0m                 \u001b[0;31m# TODO(https://github.com/pytorch/pytorch/issues/76750)\u001b[0m\u001b[0;34m\u001b[0m\u001b[0;34m\u001b[0m\u001b[0m\n\u001b[1;32m    633\u001b[0m                 \u001b[0mself\u001b[0m\u001b[0;34m.\u001b[0m\u001b[0m_reset\u001b[0m\u001b[0;34m(\u001b[0m\u001b[0;34m)\u001b[0m  \u001b[0;31m# type: ignore[call-arg]\u001b[0m\u001b[0;34m\u001b[0m\u001b[0;34m\u001b[0m\u001b[0m\n\u001b[0;32m--> 634\u001b[0;31m             \u001b[0mdata\u001b[0m \u001b[0;34m=\u001b[0m \u001b[0mself\u001b[0m\u001b[0;34m.\u001b[0m\u001b[0m_next_data\u001b[0m\u001b[0;34m(\u001b[0m\u001b[0;34m)\u001b[0m\u001b[0;34m\u001b[0m\u001b[0;34m\u001b[0m\u001b[0m\n\u001b[0m\u001b[1;32m    635\u001b[0m             \u001b[0mself\u001b[0m\u001b[0;34m.\u001b[0m\u001b[0m_num_yielded\u001b[0m \u001b[0;34m+=\u001b[0m \u001b[0;36m1\u001b[0m\u001b[0;34m\u001b[0m\u001b[0;34m\u001b[0m\u001b[0m\n\u001b[1;32m    636\u001b[0m             \u001b[0;32mif\u001b[0m \u001b[0mself\u001b[0m\u001b[0;34m.\u001b[0m\u001b[0m_dataset_kind\u001b[0m \u001b[0;34m==\u001b[0m \u001b[0m_DatasetKind\u001b[0m\u001b[0;34m.\u001b[0m\u001b[0mIterable\u001b[0m \u001b[0;32mand\u001b[0m\u001b[0;31m \u001b[0m\u001b[0;31m\\\u001b[0m\u001b[0;34m\u001b[0m\u001b[0;34m\u001b[0m\u001b[0m\n",
            "\u001b[0;32m/usr/local/lib/python3.9/dist-packages/torch/utils/data/dataloader.py\u001b[0m in \u001b[0;36m_next_data\u001b[0;34m(self)\u001b[0m\n\u001b[1;32m    676\u001b[0m     \u001b[0;32mdef\u001b[0m \u001b[0m_next_data\u001b[0m\u001b[0;34m(\u001b[0m\u001b[0mself\u001b[0m\u001b[0;34m)\u001b[0m\u001b[0;34m:\u001b[0m\u001b[0;34m\u001b[0m\u001b[0;34m\u001b[0m\u001b[0m\n\u001b[1;32m    677\u001b[0m         \u001b[0mindex\u001b[0m \u001b[0;34m=\u001b[0m \u001b[0mself\u001b[0m\u001b[0;34m.\u001b[0m\u001b[0m_next_index\u001b[0m\u001b[0;34m(\u001b[0m\u001b[0;34m)\u001b[0m  \u001b[0;31m# may raise StopIteration\u001b[0m\u001b[0;34m\u001b[0m\u001b[0;34m\u001b[0m\u001b[0m\n\u001b[0;32m--> 678\u001b[0;31m         \u001b[0mdata\u001b[0m \u001b[0;34m=\u001b[0m \u001b[0mself\u001b[0m\u001b[0;34m.\u001b[0m\u001b[0m_dataset_fetcher\u001b[0m\u001b[0;34m.\u001b[0m\u001b[0mfetch\u001b[0m\u001b[0;34m(\u001b[0m\u001b[0mindex\u001b[0m\u001b[0;34m)\u001b[0m  \u001b[0;31m# may raise StopIteration\u001b[0m\u001b[0;34m\u001b[0m\u001b[0;34m\u001b[0m\u001b[0m\n\u001b[0m\u001b[1;32m    679\u001b[0m         \u001b[0;32mif\u001b[0m \u001b[0mself\u001b[0m\u001b[0;34m.\u001b[0m\u001b[0m_pin_memory\u001b[0m\u001b[0;34m:\u001b[0m\u001b[0;34m\u001b[0m\u001b[0;34m\u001b[0m\u001b[0m\n\u001b[1;32m    680\u001b[0m             \u001b[0mdata\u001b[0m \u001b[0;34m=\u001b[0m \u001b[0m_utils\u001b[0m\u001b[0;34m.\u001b[0m\u001b[0mpin_memory\u001b[0m\u001b[0;34m.\u001b[0m\u001b[0mpin_memory\u001b[0m\u001b[0;34m(\u001b[0m\u001b[0mdata\u001b[0m\u001b[0;34m,\u001b[0m \u001b[0mself\u001b[0m\u001b[0;34m.\u001b[0m\u001b[0m_pin_memory_device\u001b[0m\u001b[0;34m)\u001b[0m\u001b[0;34m\u001b[0m\u001b[0;34m\u001b[0m\u001b[0m\n",
            "\u001b[0;32m/usr/local/lib/python3.9/dist-packages/torch/utils/data/_utils/fetch.py\u001b[0m in \u001b[0;36mfetch\u001b[0;34m(self, possibly_batched_index)\u001b[0m\n\u001b[1;32m     49\u001b[0m                 \u001b[0mdata\u001b[0m \u001b[0;34m=\u001b[0m \u001b[0mself\u001b[0m\u001b[0;34m.\u001b[0m\u001b[0mdataset\u001b[0m\u001b[0;34m.\u001b[0m\u001b[0m__getitems__\u001b[0m\u001b[0;34m(\u001b[0m\u001b[0mpossibly_batched_index\u001b[0m\u001b[0;34m)\u001b[0m\u001b[0;34m\u001b[0m\u001b[0;34m\u001b[0m\u001b[0m\n\u001b[1;32m     50\u001b[0m             \u001b[0;32melse\u001b[0m\u001b[0;34m:\u001b[0m\u001b[0;34m\u001b[0m\u001b[0;34m\u001b[0m\u001b[0m\n\u001b[0;32m---> 51\u001b[0;31m                 \u001b[0mdata\u001b[0m \u001b[0;34m=\u001b[0m \u001b[0;34m[\u001b[0m\u001b[0mself\u001b[0m\u001b[0;34m.\u001b[0m\u001b[0mdataset\u001b[0m\u001b[0;34m[\u001b[0m\u001b[0midx\u001b[0m\u001b[0;34m]\u001b[0m \u001b[0;32mfor\u001b[0m \u001b[0midx\u001b[0m \u001b[0;32min\u001b[0m \u001b[0mpossibly_batched_index\u001b[0m\u001b[0;34m]\u001b[0m\u001b[0;34m\u001b[0m\u001b[0;34m\u001b[0m\u001b[0m\n\u001b[0m\u001b[1;32m     52\u001b[0m         \u001b[0;32melse\u001b[0m\u001b[0;34m:\u001b[0m\u001b[0;34m\u001b[0m\u001b[0;34m\u001b[0m\u001b[0m\n\u001b[1;32m     53\u001b[0m             \u001b[0mdata\u001b[0m \u001b[0;34m=\u001b[0m \u001b[0mself\u001b[0m\u001b[0;34m.\u001b[0m\u001b[0mdataset\u001b[0m\u001b[0;34m[\u001b[0m\u001b[0mpossibly_batched_index\u001b[0m\u001b[0;34m]\u001b[0m\u001b[0;34m\u001b[0m\u001b[0;34m\u001b[0m\u001b[0m\n",
            "\u001b[0;32m/usr/local/lib/python3.9/dist-packages/torch/utils/data/_utils/fetch.py\u001b[0m in \u001b[0;36m<listcomp>\u001b[0;34m(.0)\u001b[0m\n\u001b[1;32m     49\u001b[0m                 \u001b[0mdata\u001b[0m \u001b[0;34m=\u001b[0m \u001b[0mself\u001b[0m\u001b[0;34m.\u001b[0m\u001b[0mdataset\u001b[0m\u001b[0;34m.\u001b[0m\u001b[0m__getitems__\u001b[0m\u001b[0;34m(\u001b[0m\u001b[0mpossibly_batched_index\u001b[0m\u001b[0;34m)\u001b[0m\u001b[0;34m\u001b[0m\u001b[0;34m\u001b[0m\u001b[0m\n\u001b[1;32m     50\u001b[0m             \u001b[0;32melse\u001b[0m\u001b[0;34m:\u001b[0m\u001b[0;34m\u001b[0m\u001b[0;34m\u001b[0m\u001b[0m\n\u001b[0;32m---> 51\u001b[0;31m                 \u001b[0mdata\u001b[0m \u001b[0;34m=\u001b[0m \u001b[0;34m[\u001b[0m\u001b[0mself\u001b[0m\u001b[0;34m.\u001b[0m\u001b[0mdataset\u001b[0m\u001b[0;34m[\u001b[0m\u001b[0midx\u001b[0m\u001b[0;34m]\u001b[0m \u001b[0;32mfor\u001b[0m \u001b[0midx\u001b[0m \u001b[0;32min\u001b[0m \u001b[0mpossibly_batched_index\u001b[0m\u001b[0;34m]\u001b[0m\u001b[0;34m\u001b[0m\u001b[0;34m\u001b[0m\u001b[0m\n\u001b[0m\u001b[1;32m     52\u001b[0m         \u001b[0;32melse\u001b[0m\u001b[0;34m:\u001b[0m\u001b[0;34m\u001b[0m\u001b[0;34m\u001b[0m\u001b[0m\n\u001b[1;32m     53\u001b[0m             \u001b[0mdata\u001b[0m \u001b[0;34m=\u001b[0m \u001b[0mself\u001b[0m\u001b[0;34m.\u001b[0m\u001b[0mdataset\u001b[0m\u001b[0;34m[\u001b[0m\u001b[0mpossibly_batched_index\u001b[0m\u001b[0;34m]\u001b[0m\u001b[0;34m\u001b[0m\u001b[0;34m\u001b[0m\u001b[0m\n",
            "\u001b[0;32m/usr/local/lib/python3.9/dist-packages/torchvision/datasets/svhn.py\u001b[0m in \u001b[0;36m__getitem__\u001b[0;34m(self, index)\u001b[0m\n\u001b[1;32m    106\u001b[0m \u001b[0;34m\u001b[0m\u001b[0m\n\u001b[1;32m    107\u001b[0m         \u001b[0;32mif\u001b[0m \u001b[0mself\u001b[0m\u001b[0;34m.\u001b[0m\u001b[0mtransform\u001b[0m \u001b[0;32mis\u001b[0m \u001b[0;32mnot\u001b[0m \u001b[0;32mNone\u001b[0m\u001b[0;34m:\u001b[0m\u001b[0;34m\u001b[0m\u001b[0;34m\u001b[0m\u001b[0m\n\u001b[0;32m--> 108\u001b[0;31m             \u001b[0mimg\u001b[0m \u001b[0;34m=\u001b[0m \u001b[0mself\u001b[0m\u001b[0;34m.\u001b[0m\u001b[0mtransform\u001b[0m\u001b[0;34m(\u001b[0m\u001b[0mimg\u001b[0m\u001b[0;34m)\u001b[0m\u001b[0;34m\u001b[0m\u001b[0;34m\u001b[0m\u001b[0m\n\u001b[0m\u001b[1;32m    109\u001b[0m \u001b[0;34m\u001b[0m\u001b[0m\n\u001b[1;32m    110\u001b[0m         \u001b[0;32mif\u001b[0m \u001b[0mself\u001b[0m\u001b[0;34m.\u001b[0m\u001b[0mtarget_transform\u001b[0m \u001b[0;32mis\u001b[0m \u001b[0;32mnot\u001b[0m \u001b[0;32mNone\u001b[0m\u001b[0;34m:\u001b[0m\u001b[0;34m\u001b[0m\u001b[0;34m\u001b[0m\u001b[0m\n",
            "\u001b[0;32m/usr/local/lib/python3.9/dist-packages/torchvision/transforms/transforms.py\u001b[0m in \u001b[0;36m__call__\u001b[0;34m(self, img)\u001b[0m\n\u001b[1;32m     93\u001b[0m     \u001b[0;32mdef\u001b[0m \u001b[0m__call__\u001b[0m\u001b[0;34m(\u001b[0m\u001b[0mself\u001b[0m\u001b[0;34m,\u001b[0m \u001b[0mimg\u001b[0m\u001b[0;34m)\u001b[0m\u001b[0;34m:\u001b[0m\u001b[0;34m\u001b[0m\u001b[0;34m\u001b[0m\u001b[0m\n\u001b[1;32m     94\u001b[0m         \u001b[0;32mfor\u001b[0m \u001b[0mt\u001b[0m \u001b[0;32min\u001b[0m \u001b[0mself\u001b[0m\u001b[0;34m.\u001b[0m\u001b[0mtransforms\u001b[0m\u001b[0;34m:\u001b[0m\u001b[0;34m\u001b[0m\u001b[0;34m\u001b[0m\u001b[0m\n\u001b[0;32m---> 95\u001b[0;31m             \u001b[0mimg\u001b[0m \u001b[0;34m=\u001b[0m \u001b[0mt\u001b[0m\u001b[0;34m(\u001b[0m\u001b[0mimg\u001b[0m\u001b[0;34m)\u001b[0m\u001b[0;34m\u001b[0m\u001b[0;34m\u001b[0m\u001b[0m\n\u001b[0m\u001b[1;32m     96\u001b[0m         \u001b[0;32mreturn\u001b[0m \u001b[0mimg\u001b[0m\u001b[0;34m\u001b[0m\u001b[0;34m\u001b[0m\u001b[0m\n\u001b[1;32m     97\u001b[0m \u001b[0;34m\u001b[0m\u001b[0m\n",
            "\u001b[0;32m/usr/local/lib/python3.9/dist-packages/torch/nn/modules/module.py\u001b[0m in \u001b[0;36m_call_impl\u001b[0;34m(self, *args, **kwargs)\u001b[0m\n\u001b[1;32m   1499\u001b[0m                 \u001b[0;32mor\u001b[0m \u001b[0m_global_backward_pre_hooks\u001b[0m \u001b[0;32mor\u001b[0m \u001b[0m_global_backward_hooks\u001b[0m\u001b[0;34m\u001b[0m\u001b[0;34m\u001b[0m\u001b[0m\n\u001b[1;32m   1500\u001b[0m                 or _global_forward_hooks or _global_forward_pre_hooks):\n\u001b[0;32m-> 1501\u001b[0;31m             \u001b[0;32mreturn\u001b[0m \u001b[0mforward_call\u001b[0m\u001b[0;34m(\u001b[0m\u001b[0;34m*\u001b[0m\u001b[0margs\u001b[0m\u001b[0;34m,\u001b[0m \u001b[0;34m**\u001b[0m\u001b[0mkwargs\u001b[0m\u001b[0;34m)\u001b[0m\u001b[0;34m\u001b[0m\u001b[0;34m\u001b[0m\u001b[0m\n\u001b[0m\u001b[1;32m   1502\u001b[0m         \u001b[0;31m# Do not call functions when jit is used\u001b[0m\u001b[0;34m\u001b[0m\u001b[0;34m\u001b[0m\u001b[0m\n\u001b[1;32m   1503\u001b[0m         \u001b[0mfull_backward_hooks\u001b[0m\u001b[0;34m,\u001b[0m \u001b[0mnon_full_backward_hooks\u001b[0m \u001b[0;34m=\u001b[0m \u001b[0;34m[\u001b[0m\u001b[0;34m]\u001b[0m\u001b[0;34m,\u001b[0m \u001b[0;34m[\u001b[0m\u001b[0;34m]\u001b[0m\u001b[0;34m\u001b[0m\u001b[0;34m\u001b[0m\u001b[0m\n",
            "\u001b[0;32m/usr/local/lib/python3.9/dist-packages/torchvision/transforms/transforms.py\u001b[0m in \u001b[0;36mforward\u001b[0;34m(self, img)\u001b[0m\n\u001b[1;32m   1282\u001b[0m             \u001b[0;32melif\u001b[0m \u001b[0mfn_id\u001b[0m \u001b[0;34m==\u001b[0m \u001b[0;36m1\u001b[0m \u001b[0;32mand\u001b[0m \u001b[0mcontrast_factor\u001b[0m \u001b[0;32mis\u001b[0m \u001b[0;32mnot\u001b[0m \u001b[0;32mNone\u001b[0m\u001b[0;34m:\u001b[0m\u001b[0;34m\u001b[0m\u001b[0;34m\u001b[0m\u001b[0m\n\u001b[1;32m   1283\u001b[0m                 \u001b[0mimg\u001b[0m \u001b[0;34m=\u001b[0m \u001b[0mF\u001b[0m\u001b[0;34m.\u001b[0m\u001b[0madjust_contrast\u001b[0m\u001b[0;34m(\u001b[0m\u001b[0mimg\u001b[0m\u001b[0;34m,\u001b[0m \u001b[0mcontrast_factor\u001b[0m\u001b[0;34m)\u001b[0m\u001b[0;34m\u001b[0m\u001b[0;34m\u001b[0m\u001b[0m\n\u001b[0;32m-> 1284\u001b[0;31m             \u001b[0;32melif\u001b[0m \u001b[0mfn_id\u001b[0m \u001b[0;34m==\u001b[0m \u001b[0;36m2\u001b[0m \u001b[0;32mand\u001b[0m \u001b[0msaturation_factor\u001b[0m \u001b[0;32mis\u001b[0m \u001b[0;32mnot\u001b[0m \u001b[0;32mNone\u001b[0m\u001b[0;34m:\u001b[0m\u001b[0;34m\u001b[0m\u001b[0;34m\u001b[0m\u001b[0m\n\u001b[0m\u001b[1;32m   1285\u001b[0m                 \u001b[0mimg\u001b[0m \u001b[0;34m=\u001b[0m \u001b[0mF\u001b[0m\u001b[0;34m.\u001b[0m\u001b[0madjust_saturation\u001b[0m\u001b[0;34m(\u001b[0m\u001b[0mimg\u001b[0m\u001b[0;34m,\u001b[0m \u001b[0msaturation_factor\u001b[0m\u001b[0;34m)\u001b[0m\u001b[0;34m\u001b[0m\u001b[0;34m\u001b[0m\u001b[0m\n\u001b[1;32m   1286\u001b[0m             \u001b[0;32melif\u001b[0m \u001b[0mfn_id\u001b[0m \u001b[0;34m==\u001b[0m \u001b[0;36m3\u001b[0m \u001b[0;32mand\u001b[0m \u001b[0mhue_factor\u001b[0m \u001b[0;32mis\u001b[0m \u001b[0;32mnot\u001b[0m \u001b[0;32mNone\u001b[0m\u001b[0;34m:\u001b[0m\u001b[0;34m\u001b[0m\u001b[0;34m\u001b[0m\u001b[0m\n",
            "\u001b[0;31mKeyboardInterrupt\u001b[0m: "
          ]
        }
      ],
      "source": [
        "# The key hyperparameters we're going to tune are learning speed, \n",
        "# annealing rate and regularization (+ different optimizers)\n",
        "\n",
        "Hyperparams = namedtuple(\"Hyperparams\", \n",
        "                         ['learning_rate', 'regs', 'anneal_epochs'])\n",
        "RunResult = namedtuple(\"RunResult\", \n",
        "                       ['model', 'loss_history', \n",
        "                        'train_history', 'val_history'])\n",
        "\n",
        "learning_rates = [1e-0, 1e-1, 1e-2, 1e-3, 1e-4]\n",
        "anneal_coeff = 0.2\n",
        "anneal_epochs = [5, 15, 20, 50]\n",
        "regs = [1e-3, 1e-4, 1e-5, 1e-7]\n",
        "\n",
        "batch_size = 64\n",
        "epoch_num = 10\n",
        "\n",
        "# Record all the runs here\n",
        "# Key should be Hyperparams and values should be RunResult\n",
        "run_record = {} \n",
        "\n",
        "# Use grid search or random search and record all runs in run_record \n",
        "# dictionary. Important: perform search in logarithmic space!\n",
        "\n",
        "lenet_model.type(torch.cuda.FloatTensor)\n",
        "lenet_model.to(device)\n",
        "\n",
        "for learning_rate in learning_rates:\n",
        "  for reg in regs:\n",
        "    for anneal_epoch in anneal_epochs:\n",
        "\n",
        "      loss = nn.CrossEntropyLoss().type(torch.cuda.FloatTensor)\n",
        "      optimizer = optim.SGD(lenet_model.parameters(), lr=learning_rate, \n",
        "                            weight_decay=reg)\n",
        "      \n",
        "      scheduler = StepLR(optimizer, step_size=anneal_epoch, \n",
        "                         gamma=0.2, verbose=True)\n",
        "      \n",
        "      key = Hyperparams(learning_rate, reg, anneal_epoch)\n",
        "      print(f'Current hyperparameters: {key}\\n')\n",
        "      \n",
        "      loss_history, train_history, val_history = train_model(\n",
        "          lenet_model, train_aug_loader, val_loader, loss, \n",
        "          optimizer, 10, scheduler=scheduler)\n",
        "      \n",
        "      value = RunResult(lenet_model, loss_history, train_history, val_history)\n",
        "      run_record[key] = value"
      ]
    },
    {
      "cell_type": "code",
      "execution_count": 23,
      "metadata": {
        "id": "Y6xExdw8JB1l",
        "colab": {
          "base_uri": "https://localhost:8080/"
        },
        "outputId": "b4571941-6af2-467b-a083-f672f41c8879"
      },
      "outputs": [
        {
          "output_type": "stream",
          "name": "stdout",
          "text": [
            "0.90625\n",
            "Hyperparams(learning_rate=1.0, regs=0.0001, anneal_epochs=5)\n"
          ]
        }
      ],
      "source": [
        "best_val_accuracy = None\n",
        "best_hyperparams = None\n",
        "best_run = None\n",
        "\n",
        "for hyperparams, run_result in run_record.items():\n",
        "    if best_val_accuracy is None or \\\n",
        "    best_val_accuracy < run_result.val_history:\n",
        "        best_val_accuracy = run_result.val_history\n",
        "        best_hyperparams = hyperparams\n",
        "        best_run = run_result\n",
        "        \n",
        "print(max(best_val_accuracy))\n",
        "print(best_hyperparams)"
      ]
    },
    {
      "cell_type": "markdown",
      "source": [],
      "metadata": {
        "id": "l41MHoJfFPxA"
      }
    },
    {
      "cell_type": "markdown",
      "metadata": {
        "id": "LOmsR0uVgtgf"
      },
      "source": [
        "# Свободное упражнение - догоним и перегоним LeNet!\n",
        "\n",
        "Попробуйте найти архитектуру и настройки тренировки, чтобы выступить лучше наших бейзлайнов.\n",
        "\n",
        "Что можно и нужно попробовать:\n",
        "- BatchNormalization (для convolution layers он в PyTorch называется [batchnorm2d](https://pytorch.org/docs/stable/nn.html#batchnorm2d))\n",
        "- Изменить количество слоев и их толщину\n",
        "- Изменять количество эпох тренировки\n",
        "- Попробовать и другие агментации"
      ]
    },
    {
      "cell_type": "code",
      "execution_count": null,
      "metadata": {
        "id": "tSVhD747icoc"
      },
      "outputs": [],
      "source": [
        "LeNet = nn.Sequential(\n",
        "    nn.BatchNorm2d(3),\n",
        "    nn.Conv2d(3, 16, 3),\n",
        "    nn.ReLU(),\n",
        "    nn.MaxPool2d(2, 2),\n",
        "\n",
        "    nn.Conv2d(16, 32, 3),\n",
        "    nn.ReLU(),\n",
        "    nn.BatchNorm2d(32),\n",
        "    nn.MaxPool2d(2, 2),\n",
        "\n",
        "    nn.Conv2d(32, 64, 3),\n",
        "    nn.ReLU(),\n",
        "    nn.BatchNorm2d(64),\n",
        "    nn.MaxPool2d(2, 2),\n",
        "\n",
        "    nn.Linear(8*8*64, 256),\n",
        "    nn.Tanh(),\n",
        "    nn.BatchNorm2d(256),\n",
        "\n",
        "    nn.Linear(256, 64),\n",
        "    nn.Tanh(),\n",
        "    nn.BatchNorm2d(64),\n",
        "\n",
        "    nn.Linear(64, 10))"
      ]
    },
    {
      "cell_type": "code",
      "source": [
        "LeNet.type(torch.cuda.FloatTensor)\n",
        "LeNet.to(device)\n",
        "\n",
        "loss = nn.CrossEntropyLoss().type(torch.cuda.FloatTensor)\n",
        "optimizer = optim.SGD(LeNet.parameters(), lr=learning_rate, \n",
        "                      weight_decay=reg)\n",
        "      \n",
        "scheduler = StepLR(optimizer, step_size=anneal_epoch, \n",
        "                    gamma=0.2, verbose=True)\n",
        "      \n",
        "loss_history, train_history, val_history = train_model(\n",
        "    LeNet, train_aug_loader, val_loader, loss, \n",
        "    optimizer, 10, scheduler=scheduler)\n",
        "\n",
        "best_val_accuracy = None\n",
        "best_model = None\n",
        "\n",
        "current_val_history = max(val_history)\n",
        "\n",
        "if (best_val_accuracy == None) or (current_val_history > best_val_accuracy):\n",
        "    best_model = LeNet\n",
        "    best_val_accuracy = current_val_history\n",
        "        \n",
        "print('Best validation accuracy achieved: %f' % best_val_accuracy)"
      ],
      "metadata": {
        "id": "BxT0JM6eB-5T"
      },
      "execution_count": null,
      "outputs": []
    },
    {
      "cell_type": "markdown",
      "metadata": {
        "id": "ubeKgBcnhx7N"
      },
      "source": [
        "# Финальный аккорд - проверим лучшую модель на test set\n",
        "\n",
        "В качестве разнообразия - напишите код для прогона модели на test set вы.\n",
        "\n",
        "В результате вы должны натренировать модель, которая покажет более **90%** точности на test set.  \n",
        "Как водится, лучший результат в группе получит дополнительные баллы!"
      ]
    },
    {
      "cell_type": "code",
      "execution_count": null,
      "metadata": {
        "id": "EIqM1kdeh-hd"
      },
      "outputs": [],
      "source": [
        "# TODO Write the code to compute accuracy on test set\n",
        "test_loader = torch.utils.data.DataLoader(data_test, batch_size=batch_size)\n",
        "final_test_accuracy = compute_accuracy(LeNet, )\n",
        "print(\"Final test accuracy - \", final_test_accuracy)"
      ]
    },
    {
      "cell_type": "code",
      "execution_count": null,
      "metadata": {
        "id": "BfH6qip6kVX_"
      },
      "outputs": [],
      "source": []
    }
  ],
  "metadata": {
    "accelerator": "GPU",
    "colab": {
      "provenance": []
    },
    "kernelspec": {
      "display_name": "Python 3",
      "language": "python",
      "name": "python3"
    },
    "language_info": {
      "codemirror_mode": {
        "name": "ipython",
        "version": 3
      },
      "file_extension": ".py",
      "mimetype": "text/x-python",
      "name": "python",
      "nbconvert_exporter": "python",
      "pygments_lexer": "ipython3",
      "version": "3.7.0"
    }
  },
  "nbformat": 4,
  "nbformat_minor": 0
}