{
 "cells": [
  {
   "cell_type": "markdown",
   "metadata": {
    "id": "n7QYRRSvFNUL"
   },
   "source": [
    "# Задание 6: Рекуррентные нейронные сети (RNNs)\n",
    "\n",
    "Это задание адаптиповано из Deep NLP Course at ABBYY (https://github.com/DanAnastasyev/DeepNLP-Course) с разрешения автора - Даниила Анастасьева. Спасибо ему огромное!"
   ]
  },
  {
   "cell_type": "code",
   "execution_count": 1,
   "metadata": {
    "colab": {
     "base_uri": "https://localhost:8080/"
    },
    "id": "P59NYU98GCb9",
    "outputId": "d0067574-a9f1-4542-a1cb-1f39f4ed7c4f"
   },
   "outputs": [],
   "source": [
    "# !pip3 -qq install torch==0.4.1\n",
    "# !pip3 -qq install bokeh==0.13.0\n",
    "# !pip3 -qq install gensim==4.1.1\n",
    "# !pip3 -qq install nltk\n",
    "# !pip3 -qq install scikit-learn==0.20.2"
   ]
  },
  {
   "cell_type": "code",
   "execution_count": 1,
   "metadata": {
    "id": "8sVtGHmA9aBM"
   },
   "outputs": [],
   "source": [
    "import numpy as np\n",
    "\n",
    "import torch\n",
    "import torch.nn as nn\n",
    "import torch.nn.functional as F\n",
    "import torch.optim as optim\n",
    "\n",
    "\n",
    "if torch.cuda.is_available():\n",
    "    from torch.cuda import FloatTensor, LongTensor\n",
    "else:\n",
    "    from torch import FloatTensor, LongTensor\n",
    "\n",
    "np.random.seed(42)"
   ]
  },
  {
   "cell_type": "markdown",
   "metadata": {
    "id": "-6CNKM3b4hT1"
   },
   "source": [
    "# Рекуррентные нейронные сети (RNNs)"
   ]
  },
  {
   "cell_type": "markdown",
   "metadata": {
    "id": "O_XkoGNQUeGm"
   },
   "source": [
    "## POS Tagging"
   ]
  },
  {
   "cell_type": "markdown",
   "metadata": {
    "id": "QFEtWrS_4rUs"
   },
   "source": [
    "Мы рассмотрим применение рекуррентных сетей к задаче sequence labeling (последняя картинка).\n",
    "\n",
    "![RNN types](http://karpathy.github.io/assets/rnn/diags.jpeg)\n",
    "\n",
    "*From [The Unreasonable Effectiveness of Recurrent Neural Networks](http://karpathy.github.io/2015/05/21/rnn-effectiveness/)*\n",
    "\n",
    "Самые популярные примеры для такой постановки задачи - Part-of-Speech Tagging и Named Entity Recognition.\n",
    "\n",
    "Мы порешаем сейчас POS Tagging для английского.\n",
    "\n",
    "Будем работать с таким набором тегов:\n",
    "- ADJ - adjective (new, good, high, ...)\n",
    "- ADP - adposition (on, of, at, ...)\n",
    "- ADV - adverb (really, already, still, ...)\n",
    "- CONJ - conjunction (and, or, but, ...)\n",
    "- DET - determiner, article (the, a, some, ...)\n",
    "- NOUN - noun (year, home, costs, ...)\n",
    "- NUM - numeral (twenty-four, fourth, 1991, ...)\n",
    "- PRT - particle (at, on, out, ...)\n",
    "- PRON - pronoun (he, their, her, ...)\n",
    "- VERB - verb (is, say, told, ...)\n",
    "- . - punctuation marks (. , ;)\n",
    "- X - other (ersatz, esprit, dunno, ...)"
   ]
  },
  {
   "cell_type": "markdown",
   "metadata": {
    "id": "EPIkKdFlHB-X"
   },
   "source": [
    "Скачаем данные:"
   ]
  },
  {
   "cell_type": "code",
   "execution_count": 2,
   "metadata": {
    "colab": {
     "base_uri": "https://localhost:8080/"
    },
    "id": "TiA2dGmgF1rW",
    "outputId": "63a806ac-e19b-4b34-f1ad-0c2f3153bf15"
   },
   "outputs": [
    {
     "name": "stderr",
     "output_type": "stream",
     "text": [
      "[nltk_data] Downloading package brown to\n",
      "[nltk_data]     C:\\Users\\User\\AppData\\Roaming\\nltk_data...\n",
      "[nltk_data]   Package brown is already up-to-date!\n",
      "[nltk_data] Downloading package universal_tagset to\n",
      "[nltk_data]     C:\\Users\\User\\AppData\\Roaming\\nltk_data...\n",
      "[nltk_data]   Package universal_tagset is already up-to-date!\n"
     ]
    }
   ],
   "source": [
    "import nltk\n",
    "from sklearn.model_selection import train_test_split\n",
    "\n",
    "nltk.download('brown')\n",
    "nltk.download('universal_tagset')\n",
    "\n",
    "data = nltk.corpus.brown.tagged_sents(tagset='universal')"
   ]
  },
  {
   "cell_type": "markdown",
   "metadata": {
    "id": "d93g_swyJA_V"
   },
   "source": [
    "Пример размеченного предложения:"
   ]
  },
  {
   "cell_type": "code",
   "execution_count": 3,
   "metadata": {
    "colab": {
     "base_uri": "https://localhost:8080/"
    },
    "id": "QstS4NO0L97c",
    "outputId": "65b7b201-7bcf-4291-9394-7c00e3d4c34e"
   },
   "outputs": [
    {
     "name": "stdout",
     "output_type": "stream",
     "text": [
      "The            \tDET\n",
      "Fulton         \tNOUN\n",
      "County         \tNOUN\n",
      "Grand          \tADJ\n",
      "Jury           \tNOUN\n",
      "said           \tVERB\n",
      "Friday         \tNOUN\n",
      "an             \tDET\n",
      "investigation  \tNOUN\n",
      "of             \tADP\n",
      "Atlanta's      \tNOUN\n",
      "recent         \tADJ\n",
      "primary        \tNOUN\n",
      "election       \tNOUN\n",
      "produced       \tVERB\n",
      "``             \t.\n",
      "no             \tDET\n",
      "evidence       \tNOUN\n",
      "''             \t.\n",
      "that           \tADP\n",
      "any            \tDET\n",
      "irregularities \tNOUN\n",
      "took           \tVERB\n",
      "place          \tNOUN\n",
      ".              \t.\n"
     ]
    }
   ],
   "source": [
    "for word, tag in data[0]:\n",
    "    print('{:15}\\t{}'.format(word, tag))"
   ]
  },
  {
   "cell_type": "markdown",
   "metadata": {
    "id": "epdW8u_YXcAv"
   },
   "source": [
    "Построим разбиение на train/val/test - наконец-то, всё как у нормальных людей.\n",
    "\n",
    "На train будем учиться, по val - подбирать параметры и делать всякие early stopping, а на test - принимать модель по ее финальному качеству."
   ]
  },
  {
   "cell_type": "code",
   "execution_count": 4,
   "metadata": {
    "colab": {
     "base_uri": "https://localhost:8080/"
    },
    "id": "xTai8Ta0lgwL",
    "outputId": "f246cd31-d299-4774-bd6a-dbfc9622c26c"
   },
   "outputs": [
    {
     "name": "stdout",
     "output_type": "stream",
     "text": [
      "Words count in train set: 739769\n",
      "Words count in val set: 130954\n",
      "Words count in test set: 290469\n"
     ]
    }
   ],
   "source": [
    "train_data, test_data = train_test_split(data, test_size=0.25, random_state=42)\n",
    "train_data, val_data = train_test_split(train_data, test_size=0.15, random_state=42)\n",
    "\n",
    "print('Words count in train set:', sum(len(sent) for sent in train_data))\n",
    "print('Words count in val set:', sum(len(sent) for sent in val_data))\n",
    "print('Words count in test set:', sum(len(sent) for sent in test_data))"
   ]
  },
  {
   "cell_type": "markdown",
   "metadata": {
    "id": "eChdLNGtXyP0"
   },
   "source": [
    "Построим маппинги из слов в индекс и из тега в индекс:\n"
   ]
  },
  {
   "cell_type": "code",
   "execution_count": 5,
   "metadata": {
    "colab": {
     "base_uri": "https://localhost:8080/"
    },
    "id": "pCjwwDs6Zq9x",
    "outputId": "591a2034-c4b4-43b9-ddfa-b65b84aad7f7"
   },
   "outputs": [
    {
     "name": "stdout",
     "output_type": "stream",
     "text": [
      "Unique words in train = 45441. Tags = {'DET', 'VERB', 'CONJ', 'PRT', 'ADV', 'X', '.', 'NUM', 'NOUN', 'ADP', 'ADJ', 'PRON'}\n"
     ]
    }
   ],
   "source": [
    "words = {word for sample in train_data for word, tag in sample}\n",
    "word2ind = {word: ind + 1 for ind, word in enumerate(words)}\n",
    "word2ind['<pad>'] = 0\n",
    "\n",
    "tags = {tag for sample in train_data for word, tag in sample}\n",
    "tag2ind = {tag: ind + 1 for ind, tag in enumerate(tags)}\n",
    "tag2ind['<pad>'] = 0\n",
    "\n",
    "print('Unique words in train = {}. Tags = {}'.format(len(word2ind), tags))"
   ]
  },
  {
   "cell_type": "code",
   "execution_count": 7,
   "metadata": {
    "colab": {
     "base_uri": "https://localhost:8080/",
     "height": 445
    },
    "id": "URC1B2nvPGFt",
    "outputId": "6925e171-0ed0-4b24-ee91-10e8c8adbf7c"
   },
   "outputs": [
    {
     "data": {
      "image/png": "[encoded data removed]",
      "text/plain": [
       "<Figure size 1000x500 with 1 Axes>"
      ]
     },
     "metadata": {},
     "output_type": "display_data"
    }
   ],
   "source": [
    "import matplotlib.pyplot as plt\n",
    "%matplotlib inline\n",
    "\n",
    "from collections import Counter\n",
    "\n",
    "tag_distribution = Counter(tag for sample in train_data for _, tag in sample)\n",
    "tag_distribution = [tag_distribution[tag] for tag in tags]\n",
    "\n",
    "plt.figure(figsize=(10, 5))\n",
    "\n",
    "bar_width = 0.35\n",
    "plt.bar(np.arange(len(tags)), tag_distribution, bar_width, align='center', alpha=0.5)\n",
    "plt.xticks(np.arange(len(tags)), tags)\n",
    "    \n",
    "plt.show()"
   ]
  },
  {
   "cell_type": "markdown",
   "metadata": {
    "id": "gArQwbzWWkgi"
   },
   "source": [
    "## Бейзлайн\n",
    "\n",
    "Какой самый простой теггер можно придумать? Давайте просто запоминать, какие теги самые вероятные для слова (или для последовательности):\n",
    "\n",
    "![tag-context](https://www.nltk.org/images/tag-context.png)  \n",
    "*From [Categorizing and Tagging Words, nltk](https://www.nltk.org/book/ch05.html)*\n",
    "\n",
    "На картинке показано, что для предсказания $t_n$ используются два предыдущих предсказанных тега + текущее слово. По корпусу считаются вероятность для $P(t_n| w_n, t_{n-1}, t_{n-2})$, выбирается тег с максимальной вероятностью.\n",
    "\n",
    "Более аккуратно такая идея реализована в Hidden Markov Models: по тренировочному корпусу вычисляются вероятности $P(w_n| t_n), P(t_n|t_{n-1}, t_{n-2})$ и максимизируется их произведение.\n",
    "\n",
    "Простейший вариант - униграммная модель, учитывающая только слово:"
   ]
  },
  {
   "cell_type": "code",
   "execution_count": 9,
   "metadata": {
    "colab": {
     "base_uri": "https://localhost:8080/"
    },
    "id": "5rWmSToIaeAo",
    "outputId": "755e323f-fd74-4408-e5b3-9d76500bfdbd"
   },
   "outputs": [
    {
     "name": "stdout",
     "output_type": "stream",
     "text": [
      "Accuracy of unigram tagger = 92.62%\n"
     ]
    }
   ],
   "source": [
    "import nltk\n",
    "\n",
    "default_tagger = nltk.DefaultTagger('NN')\n",
    "\n",
    "unigram_tagger = nltk.UnigramTagger(train_data, backoff=default_tagger)\n",
    "print('Accuracy of unigram tagger = {:.2%}'.format(unigram_tagger.accuracy(test_data)))"
   ]
  },
  {
   "cell_type": "markdown",
   "metadata": {
    "id": "07Ymb_MkbWsF"
   },
   "source": [
    "Добавим вероятности переходов:"
   ]
  },
  {
   "cell_type": "code",
   "execution_count": 11,
   "metadata": {
    "colab": {
     "base_uri": "https://localhost:8080/"
    },
    "id": "vjz_Rk0bbMyH",
    "outputId": "1d0c46de-7814-4bfa-9d8b-00b4f27b80a0"
   },
   "outputs": [
    {
     "name": "stdout",
     "output_type": "stream",
     "text": [
      "Accuracy of bigram tagger = 93.42%\n"
     ]
    }
   ],
   "source": [
    "bigram_tagger = nltk.BigramTagger(train_data, backoff=unigram_tagger)\n",
    "print('Accuracy of bigram tagger = {:.2%}'.format(bigram_tagger.accuracy(test_data)))"
   ]
  },
  {
   "cell_type": "markdown",
   "metadata": {
    "id": "uWMw6QHvbaDd"
   },
   "source": [
    "Обратите внимание, что `backoff` важен:"
   ]
  },
  {
   "cell_type": "code",
   "execution_count": 12,
   "metadata": {
    "colab": {
     "base_uri": "https://localhost:8080/"
    },
    "id": "8XCuxEBVbOY_",
    "outputId": "311362e0-9e26-4b25-fc58-26b8316a70de"
   },
   "outputs": [
    {
     "name": "stdout",
     "output_type": "stream",
     "text": [
      "Accuracy of trigram tagger = 23.33%\n"
     ]
    }
   ],
   "source": [
    "trigram_tagger = nltk.TrigramTagger(train_data)\n",
    "print('Accuracy of trigram tagger = {:.2%}'.format(trigram_tagger.accuracy(test_data)))"
   ]
  },
  {
   "cell_type": "code",
   "execution_count": 15,
   "metadata": {
    "colab": {
     "base_uri": "https://localhost:8080/"
    },
    "id": "9Om4tQUQslNm",
    "outputId": "013c61e8-cb49-414f-ef13-cf6fa25749a9"
   },
   "outputs": [
    {
     "name": "stdout",
     "output_type": "stream",
     "text": [
      "Accuracy of trigram tagger = 93.43%\n"
     ]
    }
   ],
   "source": [
    "trigram_tagger = nltk.TrigramTagger(train_data, backoff=bigram_tagger)\n",
    "print('Accuracy of trigram tagger = {:.2%}'.format(trigram_tagger.accuracy(test_data)))"
   ]
  },
  {
   "cell_type": "markdown",
   "metadata": {
    "id": "4t3xyYd__8d-"
   },
   "source": [
    "## Увеличиваем контекст с рекуррентными сетями\n",
    "\n",
    "Униграмная модель работает на удивление хорошо, но мы же собрались учить сеточки.\n",
    "\n",
    "Омонимия - основная причина, почему униграмная модель плоха:  \n",
    "*“he cashed a check at the **bank**”*  \n",
    "vs  \n",
    "*“he sat on the **bank** of the river”*\n",
    "\n",
    "Поэтому нам очень полезно учитывать контекст при предсказании тега.\n",
    "\n",
    "Воспользуемся LSTM - он умеет работать с контекстом очень даже хорошо:\n",
    "\n",
    "![](https://image.ibb.co/kgmoff/Baseline-Tagger.png)\n",
    "\n",
    "Синим показано выделение фичей из слова, LSTM оранжевенький - он строит эмбеддинги слов с учетом контекста, а дальше зелененькая логистическая регрессия делает предсказания тегов."
   ]
  },
  {
   "cell_type": "code",
   "execution_count": 6,
   "metadata": {
    "id": "RtRbz1SwgEqc"
   },
   "outputs": [],
   "source": [
    "def convert_data(data, word2ind, tag2ind):\n",
    "    X = [[word2ind.get(word, 0) for word, _ in sample] for sample in data]\n",
    "    y = [[tag2ind[tag] for _, tag in sample] for sample in data]\n",
    "    \n",
    "    return X, y\n",
    "\n",
    "X_train, y_train = convert_data(train_data, word2ind, tag2ind)\n",
    "X_val, y_val = convert_data(val_data, word2ind, tag2ind)\n",
    "X_test, y_test = convert_data(test_data, word2ind, tag2ind)"
   ]
  },
  {
   "cell_type": "code",
   "execution_count": 7,
   "metadata": {
    "id": "DhsTKZalfih6"
   },
   "outputs": [],
   "source": [
    "def iterate_batches(data, batch_size):\n",
    "    X, y = data\n",
    "    n_samples = len(X)\n",
    "\n",
    "    indices = np.arange(n_samples)\n",
    "    np.random.shuffle(indices)\n",
    "    \n",
    "    for start in range(0, n_samples, batch_size):\n",
    "        end = min(start + batch_size, n_samples)\n",
    "        \n",
    "        batch_indices = indices[start:end]\n",
    "        \n",
    "        max_sent_len = max(len(X[ind]) for ind in batch_indices)\n",
    "        X_batch = np.zeros((max_sent_len, len(batch_indices)))\n",
    "        y_batch = np.zeros((max_sent_len, len(batch_indices)))\n",
    "        \n",
    "        for batch_ind, sample_ind in enumerate(batch_indices):\n",
    "            X_batch[:len(X[sample_ind]), batch_ind] = X[sample_ind]\n",
    "            y_batch[:len(y[sample_ind]), batch_ind] = y[sample_ind]\n",
    "            \n",
    "        yield X_batch, y_batch"
   ]
  },
  {
   "cell_type": "code",
   "execution_count": 8,
   "metadata": {
    "colab": {
     "base_uri": "https://localhost:8080/"
    },
    "id": "l4XsRII5kW5x",
    "outputId": "6e4cac7d-e15e-4685-e26b-70fb90f87dda"
   },
   "outputs": [
    {
     "data": {
      "text/plain": [
       "((32, 4), (32, 4))"
      ]
     },
     "execution_count": 8,
     "metadata": {},
     "output_type": "execute_result"
    }
   ],
   "source": [
    "X_batch, y_batch = next(iterate_batches((X_train, y_train), 4))\n",
    "\n",
    "X_batch.shape, y_batch.shape"
   ]
  },
  {
   "cell_type": "markdown",
   "metadata": {
    "id": "C5I9E9P6eFYv"
   },
   "source": [
    "**Задание** Реализуйте `LSTMTagger`:"
   ]
  },
  {
   "cell_type": "code",
   "execution_count": 33,
   "metadata": {
    "id": "WVEHju54d68T"
   },
   "outputs": [],
   "source": [
    "class LSTMTagger(nn.Module):\n",
    "    def __init__(self, vocab_size, tagset_size, word_emb_dim=100, lstm_hidden_dim=128, lstm_layers_count=1):\n",
    "        super().__init__()\n",
    "        \n",
    "        self.emb = nn.Embedding(vocab_size, word_emb_dim)\n",
    "        self.lstm = nn.LSTM(word_emb_dim, lstm_hidden_dim, lstm_layers_count)\n",
    "        self.lin = nn.Linear(lstm_hidden_dim, tagset_size)\n",
    "\n",
    "    def forward(self, inputs):\n",
    "        emb_out = self.emb(inputs)\n",
    "        lstm_out, _ = self.lstm(emb_out)\n",
    "        return self.lin(lstm_out)"
   ]
  },
  {
   "cell_type": "markdown",
   "metadata": {
    "id": "q_HA8zyheYGH"
   },
   "source": [
    "**Задание** Научитесь считать accuracy и loss (а заодно проверьте, что модель работает)"
   ]
  },
  {
   "cell_type": "code",
   "execution_count": 9,
   "metadata": {
    "id": "RtfSGU7f3Rbd"
   },
   "outputs": [],
   "source": [
    "def calculate_acc(y_batch, logits):\n",
    "    mask = (y_batch != 0).float()\n",
    "    preds = torch.argmax(logits, 2)\n",
    "  \n",
    "    current_count = ((preds == y_batch).float() * mask).sum()\n",
    "    total_count = mask.sum()\n",
    "\n",
    "    # for the 1 try\n",
    "#     return current_count / total_count\n",
    "\n",
    "    # for do_epoch()\n",
    "    return current_count, total_count"
   ]
  },
  {
   "cell_type": "code",
   "execution_count": 10,
   "metadata": {
    "id": "cFUiMfRG3ROe"
   },
   "outputs": [],
   "source": [
    "def calculate_loss(criterion, y_batch, logits):\n",
    "    return criterion(logits.transpose(2, 1), y_batch)"
   ]
  },
  {
   "cell_type": "code",
   "execution_count": 36,
   "metadata": {
    "colab": {
     "base_uri": "https://localhost:8080/"
    },
    "id": "jbrxsZ2mehWB",
    "outputId": "788e2e17-c493-41f2-d127-b090a14ef7bc"
   },
   "outputs": [
    {
     "name": "stdout",
     "output_type": "stream",
     "text": [
      "Accuracy: 0.0326\n"
     ]
    }
   ],
   "source": [
    "model = LSTMTagger(\n",
    "    vocab_size=len(word2ind),\n",
    "    tagset_size=len(tag2ind)\n",
    ")\n",
    "\n",
    "X_batch, y_batch = torch.LongTensor(X_batch), torch.LongTensor(y_batch)\n",
    "\n",
    "logits = model(X_batch)\n",
    "\n",
    "print('Accuracy: {:.3}'.format(calculate_acc(y_batch, logits)))"
   ]
  },
  {
   "cell_type": "code",
   "execution_count": 37,
   "metadata": {
    "colab": {
     "base_uri": "https://localhost:8080/"
    },
    "id": "GMUyUm1hgpe3",
    "outputId": "e855d525-71c2-4c3b-ce40-dfbaa7bc77b9"
   },
   "outputs": [
    {
     "name": "stdout",
     "output_type": "stream",
     "text": [
      "Loss : 2.6\n"
     ]
    }
   ],
   "source": [
    "criterion = nn.CrossEntropyLoss()\n",
    "print('Loss : {:.3}'.format(calculate_loss(criterion, y_batch, logits)))"
   ]
  },
  {
   "cell_type": "markdown",
   "metadata": {
    "id": "nSgV3NPUpcjH"
   },
   "source": [
    "**Задание** Вставьте эти вычисление в функцию:"
   ]
  },
  {
   "cell_type": "code",
   "execution_count": 11,
   "metadata": {
    "id": "FprPQ0gllo7b"
   },
   "outputs": [],
   "source": [
    "import math\n",
    "from tqdm import tqdm\n",
    "\n",
    "\n",
    "def do_epoch(model, criterion, data, batch_size, optimizer=None, name=None):\n",
    "    epoch_loss = 0\n",
    "    correct_count = 0\n",
    "    sum_count = 0\n",
    "    \n",
    "    is_train = not optimizer is None\n",
    "    name = name or ''\n",
    "    model.train(is_train)\n",
    "    \n",
    "    batches_count = math.ceil(len(data[0]) / batch_size)\n",
    "    \n",
    "    with torch.autograd.set_grad_enabled(is_train):\n",
    "        with tqdm(total=batches_count) as progress_bar:\n",
    "            for i, (X_batch, y_batch) in enumerate(iterate_batches(data, batch_size)):\n",
    "                X_batch, y_batch = torch.LongTensor(X_batch), torch.LongTensor(y_batch)\n",
    "                logits = model(X_batch)\n",
    "\n",
    "                loss = calculate_loss(criterion, y_batch, logits)\n",
    "\n",
    "                epoch_loss += loss.item()\n",
    "\n",
    "                if optimizer:\n",
    "                    optimizer.zero_grad()\n",
    "                    loss.backward()\n",
    "                    optimizer.step()\n",
    "\n",
    "                cur_correct_count, cur_sum_count = calculate_acc(y_batch, logits)\n",
    "\n",
    "                correct_count += cur_correct_count\n",
    "                sum_count += cur_sum_count\n",
    "\n",
    "                progress_bar.update()\n",
    "                progress_bar.set_description('{:>5s} Loss = {:.5f}, Accuracy = {:.2%}'.format(\n",
    "                    name, loss.item(), cur_correct_count / cur_sum_count)\n",
    "                )\n",
    "                \n",
    "            progress_bar.set_description('{:>5s} Loss = {:.5f}, Accuracy = {:.2%}'.format(\n",
    "                name, epoch_loss / batches_count, correct_count / sum_count)\n",
    "            )\n",
    "\n",
    "    return epoch_loss / batches_count, correct_count / sum_count\n",
    "\n",
    "\n",
    "def fit(model, criterion, optimizer, train_data, epochs_count=1, batch_size=32,\n",
    "        val_data=None, val_batch_size=None):\n",
    "        \n",
    "    if not val_data is None and val_batch_size is None:\n",
    "        val_batch_size = batch_size\n",
    "        \n",
    "    for epoch in range(epochs_count):\n",
    "        name_prefix = '[{} / {}] '.format(epoch + 1, epochs_count)\n",
    "        train_loss, train_acc = do_epoch(model, criterion, train_data, batch_size, optimizer, name_prefix + 'Train:')\n",
    "        \n",
    "        if not val_data is None:\n",
    "            val_loss, val_acc = do_epoch(model, criterion, val_data, val_batch_size, None, name_prefix + '  Val:')"
   ]
  },
  {
   "cell_type": "code",
   "execution_count": 40,
   "metadata": {
    "colab": {
     "base_uri": "https://localhost:8080/"
    },
    "id": "Pqfbeh1ltEYa",
    "outputId": "f03de76d-814a-4df0-f650-5b32ad1474b9"
   },
   "outputs": [
    {
     "name": "stderr",
     "output_type": "stream",
     "text": [
      "[1 / 20] Train: Loss = 0.31892, Accuracy = 71.34%: 100%|██████████| 572/572 [00:04<00:00, 122.57it/s]\n",
      "[1 / 20]   Val: Loss = 0.09904, Accuracy = 85.54%: 100%|██████████| 13/13 [00:00<00:00, 75.51it/s]\n",
      "[2 / 20] Train: Loss = 0.10145, Accuracy = 89.80%: 100%|██████████| 572/572 [00:04<00:00, 129.75it/s]\n",
      "[2 / 20]   Val: Loss = 0.07082, Accuracy = 90.02%: 100%|██████████| 13/13 [00:00<00:00, 74.58it/s]\n",
      "[3 / 20] Train: Loss = 0.06803, Accuracy = 93.20%: 100%|██████████| 572/572 [00:04<00:00, 129.72it/s]\n",
      "[3 / 20]   Val: Loss = 0.06152, Accuracy = 91.29%: 100%|██████████| 13/13 [00:00<00:00, 74.14it/s]\n",
      "[4 / 20] Train: Loss = 0.05103, Accuracy = 94.80%: 100%|██████████| 572/572 [00:04<00:00, 117.01it/s]\n",
      "[4 / 20]   Val: Loss = 0.06076, Accuracy = 92.21%: 100%|██████████| 13/13 [00:00<00:00, 61.86it/s]\n",
      "[5 / 20] Train: Loss = 0.04075, Accuracy = 95.82%: 100%|██████████| 572/572 [00:04<00:00, 126.36it/s]\n",
      "[5 / 20]   Val: Loss = 0.06065, Accuracy = 92.67%: 100%|██████████| 13/13 [00:00<00:00, 74.97it/s]\n",
      "[6 / 20] Train: Loss = 0.03331, Accuracy = 96.53%: 100%|██████████| 572/572 [00:04<00:00, 128.48it/s]\n",
      "[6 / 20]   Val: Loss = 0.05572, Accuracy = 92.96%: 100%|██████████| 13/13 [00:00<00:00, 73.07it/s]\n",
      "[7 / 20] Train: Loss = 0.02747, Accuracy = 97.14%: 100%|██████████| 572/572 [00:04<00:00, 122.50it/s]\n",
      "[7 / 20]   Val: Loss = 0.06451, Accuracy = 93.19%: 100%|██████████| 13/13 [00:00<00:00, 76.25it/s]\n",
      "[8 / 20] Train: Loss = 0.02274, Accuracy = 97.63%: 100%|██████████| 572/572 [00:04<00:00, 121.05it/s]\n",
      "[8 / 20]   Val: Loss = 0.06090, Accuracy = 93.31%: 100%|██████████| 13/13 [00:00<00:00, 76.56it/s]\n",
      "[9 / 20] Train: Loss = 0.01890, Accuracy = 98.04%: 100%|██████████| 572/572 [00:04<00:00, 125.38it/s]\n",
      "[9 / 20]   Val: Loss = 0.06330, Accuracy = 93.41%: 100%|██████████| 13/13 [00:00<00:00, 69.40it/s]\n",
      "[10 / 20] Train: Loss = 0.01563, Accuracy = 98.37%: 100%|██████████| 572/572 [00:04<00:00, 122.38it/s]\n",
      "[10 / 20]   Val: Loss = 0.06518, Accuracy = 93.38%: 100%|██████████| 13/13 [00:00<00:00, 75.31it/s]\n",
      "[11 / 20] Train: Loss = 0.01300, Accuracy = 98.66%: 100%|██████████| 572/572 [00:04<00:00, 124.97it/s]\n",
      "[11 / 20]   Val: Loss = 0.06765, Accuracy = 93.40%: 100%|██████████| 13/13 [00:00<00:00, 74.97it/s]\n",
      "[12 / 20] Train: Loss = 0.01078, Accuracy = 98.90%: 100%|██████████| 572/572 [00:04<00:00, 124.78it/s]\n",
      "[12 / 20]   Val: Loss = 0.06905, Accuracy = 93.41%: 100%|██████████| 13/13 [00:00<00:00, 73.01it/s]\n",
      "[13 / 20] Train: Loss = 0.00869, Accuracy = 99.13%: 100%|██████████| 572/572 [00:04<00:00, 122.54it/s]\n",
      "[13 / 20]   Val: Loss = 0.06915, Accuracy = 93.31%: 100%|██████████| 13/13 [00:00<00:00, 74.81it/s]\n",
      "[14 / 20] Train: Loss = 0.00716, Accuracy = 99.30%: 100%|██████████| 572/572 [00:04<00:00, 125.64it/s]\n",
      "[14 / 20]   Val: Loss = 0.07455, Accuracy = 93.28%: 100%|██████████| 13/13 [00:00<00:00, 73.29it/s]\n",
      "[15 / 20] Train: Loss = 0.00590, Accuracy = 99.45%: 100%|██████████| 572/572 [00:04<00:00, 126.55it/s]\n",
      "[15 / 20]   Val: Loss = 0.07632, Accuracy = 93.21%: 100%|██████████| 13/13 [00:00<00:00, 47.27it/s]\n",
      "[16 / 20] Train: Loss = 0.00473, Accuracy = 99.56%: 100%|██████████| 572/572 [00:06<00:00, 92.32it/s] \n",
      "[16 / 20]   Val: Loss = 0.08588, Accuracy = 93.17%: 100%|██████████| 13/13 [00:00<00:00, 72.11it/s]\n",
      "[17 / 20] Train: Loss = 0.00378, Accuracy = 99.66%: 100%|██████████| 572/572 [00:04<00:00, 125.25it/s]\n",
      "[17 / 20]   Val: Loss = 0.08735, Accuracy = 93.10%: 100%|██████████| 13/13 [00:00<00:00, 73.40it/s]\n",
      "[18 / 20] Train: Loss = 0.00322, Accuracy = 99.71%: 100%|██████████| 572/572 [00:04<00:00, 120.65it/s]\n",
      "[18 / 20]   Val: Loss = 0.09250, Accuracy = 93.13%: 100%|██████████| 13/13 [00:00<00:00, 70.89it/s]\n",
      "[19 / 20] Train: Loss = 0.00266, Accuracy = 99.77%: 100%|██████████| 572/572 [00:04<00:00, 124.29it/s]\n",
      "[19 / 20]   Val: Loss = 0.09863, Accuracy = 93.10%: 100%|██████████| 13/13 [00:00<00:00, 71.72it/s]\n",
      "[20 / 20] Train: Loss = 0.00233, Accuracy = 99.79%: 100%|██████████| 572/572 [00:04<00:00, 125.65it/s]\n",
      "[20 / 20]   Val: Loss = 0.10197, Accuracy = 93.06%: 100%|██████████| 13/13 [00:00<00:00, 75.93it/s]\n"
     ]
    }
   ],
   "source": [
    "model = LSTMTagger(\n",
    "    vocab_size=len(word2ind),\n",
    "    tagset_size=len(tag2ind)\n",
    ").cuda()\n",
    "\n",
    "criterion = nn.CrossEntropyLoss().cuda()\n",
    "optimizer = optim.Adam(model.parameters())\n",
    "\n",
    "# epochs_count=50 leads to overfitting\n",
    "fit(model, criterion, optimizer, train_data=(X_train, y_train), epochs_count=20,\n",
    "    batch_size=64, val_data=(X_val, y_val), val_batch_size=512)"
   ]
  },
  {
   "cell_type": "markdown",
   "metadata": {
    "id": "m0qGetIhfUE5"
   },
   "source": [
    "### Masking\n",
    "\n",
    "**Задание** Проверьте себя - не считаете ли вы потери и accuracy на паддингах - очень легко получить высокое качество за счет этого.\n",
    "\n",
    "У функции потерь есть параметр `ignore_index`, для таких целей. Для accuracy нужно использовать маскинг - умножение на маску из нулей и единиц, где нули на позициях паддингов (а потом усреднение по ненулевым позициям в маске)."
   ]
  },
  {
   "cell_type": "markdown",
   "metadata": {
    "id": "nAfV2dEOfHo5"
   },
   "source": [
    "**Задание** Посчитайте качество модели на тесте. Ожидается результат лучше бейзлайна!"
   ]
  },
  {
   "cell_type": "code",
   "execution_count": 43,
   "metadata": {
    "colab": {
     "base_uri": "https://localhost:8080/"
    },
    "id": "98wr38_rw55D",
    "outputId": "c2cb1857-a06d-401a-e717-74c5999e1842"
   },
   "outputs": [
    {
     "name": "stdout",
     "output_type": "stream",
     "text": [
      "Accuracy: 0.0652\n",
      "Loss : 2.56\n"
     ]
    }
   ],
   "source": [
    "model = LSTMTagger(\n",
    "    vocab_size=len(word2ind),\n",
    "    tagset_size=len(tag2ind)\n",
    ")\n",
    "\n",
    "X_batch, y_batch = torch.LongTensor(X_batch), torch.LongTensor(y_batch)\n",
    "\n",
    "logits = model(X_batch)\n",
    "print('Accuracy: {:.3}'.format(calculate_acc(y_batch, logits)))\n",
    "\n",
    "criterion = nn.CrossEntropyLoss(ignore_index=0)\n",
    "print('Loss : {:.3}'.format(calculate_loss(criterion, y_batch, logits)))"
   ]
  },
  {
   "cell_type": "markdown",
   "metadata": {
    "id": "PXUTSFaEHbDG"
   },
   "source": [
    "### Bidirectional LSTM\n",
    "\n",
    "Благодаря BiLSTM можно использовать сразу оба контеста при предсказании тега слова. Т.е. для каждого токена $w_i$ forward LSTM будет выдавать представление $\\mathbf{f_i} \\sim (w_1, \\ldots, w_i)$ - построенное по всему левому контексту - и $\\mathbf{b_i} \\sim (w_n, \\ldots, w_i)$ - представление правого контекста. Их конкатенация автоматически захватит весь доступный контекст слова: $\\mathbf{h_i} = [\\mathbf{f_i}, \\mathbf{b_i}] \\sim (w_1, \\ldots, w_n)$.\n",
    "\n",
    "![BiLSTM](https://www.researchgate.net/profile/Wang_Ling/publication/280912217/figure/fig2/AS:391505383575555@1470353565299/Illustration-of-our-neural-network-for-POS-tagging.png)  \n",
    "*From [Finding Function in Form: Compositional Character Models for Open Vocabulary Word Representation](https://arxiv.org/abs/1508.02096)*\n",
    "\n",
    "**Задание** Добавьте Bidirectional LSTM."
   ]
  },
  {
   "cell_type": "code",
   "execution_count": 49,
   "metadata": {
    "id": "Xk-0EBUKFNUc"
   },
   "outputs": [],
   "source": [
    "class BiLSTMTagger(nn.Module):\n",
    "    def __init__(self, vocab_size, tagset_size, word_emb_dim=100, lstm_hidden_dim=128, lstm_layers_count=1):\n",
    "        super().__init__()\n",
    "        \n",
    "        self.emb = nn.Embedding(vocab_size, word_emb_dim)\n",
    "        self.lstm = nn.LSTM(word_emb_dim, lstm_hidden_dim, \n",
    "                            lstm_layers_count, bidirectional=True)\n",
    "        self.lin = nn.Linear(lstm_hidden_dim*2, tagset_size)\n",
    "\n",
    "    def forward(self, inputs):\n",
    "        emb_out = self.emb(inputs)\n",
    "        lstm_out, _ = self.lstm(emb_out)\n",
    "        return self.lin(lstm_out)"
   ]
  },
  {
   "cell_type": "code",
   "execution_count": 50,
   "metadata": {
    "colab": {
     "base_uri": "https://localhost:8080/"
    },
    "id": "sOE_4lH-9gxl",
    "outputId": "9329f754-d14d-4f32-c123-d4a7450c0529"
   },
   "outputs": [
    {
     "name": "stderr",
     "output_type": "stream",
     "text": [
      "[1 / 5] Train: Loss = 0.55608, Accuracy = 82.50%: 100%|██████████| 572/572 [00:05<00:00, 104.13it/s]\n",
      "[1 / 5]   Val: Loss = 0.30969, Accuracy = 89.83%: 100%|██████████| 13/13 [00:00<00:00, 47.59it/s]\n",
      "[2 / 5] Train: Loss = 0.20584, Accuracy = 93.45%: 100%|██████████| 572/572 [00:05<00:00, 112.23it/s]\n",
      "[2 / 5]   Val: Loss = 0.21274, Accuracy = 93.24%: 100%|██████████| 13/13 [00:00<00:00, 49.66it/s]\n",
      "[3 / 5] Train: Loss = 0.13028, Accuracy = 95.94%: 100%|██████████| 572/572 [00:05<00:00, 103.52it/s]\n",
      "[3 / 5]   Val: Loss = 0.18606, Accuracy = 94.32%: 100%|██████████| 13/13 [00:00<00:00, 49.92it/s]\n",
      "[4 / 5] Train: Loss = 0.08909, Accuracy = 97.29%: 100%|██████████| 572/572 [00:05<00:00, 111.49it/s]\n",
      "[4 / 5]   Val: Loss = 0.15758, Accuracy = 95.09%: 100%|██████████| 13/13 [00:00<00:00, 46.40it/s]\n",
      "[5 / 5] Train: Loss = 0.06221, Accuracy = 98.15%: 100%|██████████| 572/572 [00:05<00:00, 103.60it/s]\n",
      "[5 / 5]   Val: Loss = 0.15267, Accuracy = 95.40%: 100%|██████████| 13/13 [00:00<00:00, 43.67it/s]\n"
     ]
    }
   ],
   "source": [
    "model = BiLSTMTagger(\n",
    "    vocab_size=len(word2ind),\n",
    "    tagset_size=len(tag2ind)\n",
    ").cuda()\n",
    "\n",
    "criterion = nn.CrossEntropyLoss(ignore_index=0).cuda()\n",
    "optimizer = optim.Adam(model.parameters())\n",
    "\n",
    "fit(model, criterion, optimizer, train_data=(X_train, y_train), epochs_count=5,\n",
    "    batch_size=64, val_data=(X_val, y_val), val_batch_size=512)"
   ]
  },
  {
   "cell_type": "markdown",
   "metadata": {
    "id": "ZTXmYGD_ANhm"
   },
   "source": [
    "### Предобученные эмбеддинги\n",
    "\n",
    "Мы знаем, какая клёвая вещь - предобученные эмбеддинги. При текущем размере обучающей выборки еще можно было учить их и с нуля - с меньшей было бы совсем плохо.\n",
    "\n",
    "Поэтому стандартный пайплайн - скачать эмбеддинги, засунуть их в сеточку. Запустим его:"
   ]
  },
  {
   "cell_type": "code",
   "execution_count": 12,
   "metadata": {
    "colab": {
     "base_uri": "https://localhost:8080/",
     "height": 519
    },
    "id": "uZpY_Q1xZ18h",
    "outputId": "0809f5e9-0259-4177-aae7-9a0d2fcc8857"
   },
   "outputs": [],
   "source": [
    "import gensim.downloader as api\n",
    "\n",
    "w2v_model = api.load('glove-wiki-gigaword-100')"
   ]
  },
  {
   "cell_type": "markdown",
   "metadata": {
    "id": "KYogOoKlgtcf"
   },
   "source": [
    "Построим подматрицу для слов из нашей тренировочной выборки:"
   ]
  },
  {
   "cell_type": "code",
   "execution_count": 13,
   "metadata": {
    "colab": {
     "base_uri": "https://localhost:8080/",
     "height": 242
    },
    "id": "VsCstxiO03oT",
    "outputId": "977df007-0349-4b48-ca47-93d1616b7339"
   },
   "outputs": [
    {
     "name": "stdout",
     "output_type": "stream",
     "text": [
      "Know 38736 out of 45441 word embeddings\n"
     ]
    }
   ],
   "source": [
    "known_count = 0\n",
    "embeddings = np.zeros((len(word2ind), w2v_model.vectors.shape[1]))\n",
    "for word, ind in word2ind.items():\n",
    "    word = word.lower()\n",
    "    if word in w2v_model:\n",
    "        embeddings[ind] = w2v_model.get_vector(word)\n",
    "        known_count += 1\n",
    "        \n",
    "print('Know {} out of {} word embeddings'.format(known_count, len(word2ind)))"
   ]
  },
  {
   "cell_type": "code",
   "execution_count": 14,
   "metadata": {},
   "outputs": [],
   "source": [
    "embeddings = torch.FloatTensor(embeddings)"
   ]
  },
  {
   "cell_type": "markdown",
   "metadata": {
    "id": "HcG7i-R8hbY3"
   },
   "source": [
    "**Задание** Сделайте модель с предобученной матрицей. Используйте `nn.Embedding.from_pretrained`."
   ]
  },
  {
   "cell_type": "code",
   "execution_count": 15,
   "metadata": {
    "id": "LxaRBpQd0pat"
   },
   "outputs": [],
   "source": [
    "class LSTMTaggerWithPretrainedEmbs(nn.Module):\n",
    "    def __init__(self, embeddings, tagset_size, lstm_hidden_dim=64, lstm_layers_count=1):\n",
    "        super().__init__()\n",
    "        \n",
    "        self.emb = nn.Embedding.from_pretrained(embeddings)\n",
    "        self.lstm = nn.LSTM(embeddings.shape[1], lstm_hidden_dim, lstm_layers_count)\n",
    "        self.lin = nn.Linear(lstm_hidden_dim, tagset_size)\n",
    "\n",
    "    def forward(self, inputs):\n",
    "        emb_out = self.emb(inputs)\n",
    "        lstm_out, _ = self.lstm(emb_out)\n",
    "        return self.lin(lstm_out)"
   ]
  },
  {
   "cell_type": "code",
   "execution_count": 16,
   "metadata": {
    "id": "EBtI6BDE-Fc7"
   },
   "outputs": [
    {
     "name": "stderr",
     "output_type": "stream",
     "text": [
      "[1 / 15] Train: Loss = 0.75879, Accuracy = 78.06%: 100%|█████████████████████████████| 572/572 [00:13<00:00, 41.05it/s]\n",
      "[1 / 15]   Val: Loss = 0.37370, Accuracy = 89.06%: 100%|███████████████████████████████| 13/13 [00:00<00:00, 13.61it/s]\n",
      "[2 / 15] Train: Loss = 0.28644, Accuracy = 91.33%: 100%|█████████████████████████████| 572/572 [00:13<00:00, 41.06it/s]\n",
      "[2 / 15]   Val: Loss = 0.25939, Accuracy = 91.93%: 100%|███████████████████████████████| 13/13 [00:00<00:00, 13.17it/s]\n",
      "[3 / 15] Train: Loss = 0.21069, Accuracy = 93.35%: 100%|█████████████████████████████| 572/572 [00:14<00:00, 40.71it/s]\n",
      "[3 / 15]   Val: Loss = 0.21210, Accuracy = 93.27%: 100%|███████████████████████████████| 13/13 [00:00<00:00, 13.40it/s]\n",
      "[4 / 15] Train: Loss = 0.17419, Accuracy = 94.43%: 100%|█████████████████████████████| 572/572 [00:14<00:00, 40.34it/s]\n",
      "[4 / 15]   Val: Loss = 0.18700, Accuracy = 94.02%: 100%|███████████████████████████████| 13/13 [00:01<00:00, 12.90it/s]\n",
      "[5 / 15] Train: Loss = 0.15307, Accuracy = 95.01%: 100%|█████████████████████████████| 572/572 [00:14<00:00, 40.61it/s]\n",
      "[5 / 15]   Val: Loss = 0.17114, Accuracy = 94.42%: 100%|███████████████████████████████| 13/13 [00:00<00:00, 13.37it/s]\n",
      "[6 / 15] Train: Loss = 0.13919, Accuracy = 95.40%: 100%|█████████████████████████████| 572/572 [00:14<00:00, 40.33it/s]\n",
      "[6 / 15]   Val: Loss = 0.16054, Accuracy = 94.69%: 100%|███████████████████████████████| 13/13 [00:00<00:00, 13.20it/s]\n",
      "[7 / 15] Train: Loss = 0.12920, Accuracy = 95.68%: 100%|█████████████████████████████| 572/572 [00:14<00:00, 40.30it/s]\n",
      "[7 / 15]   Val: Loss = 0.15501, Accuracy = 94.90%: 100%|███████████████████████████████| 13/13 [00:01<00:00, 12.44it/s]\n",
      "[8 / 15] Train: Loss = 0.12185, Accuracy = 95.88%: 100%|█████████████████████████████| 572/572 [00:14<00:00, 39.95it/s]\n",
      "[8 / 15]   Val: Loss = 0.14961, Accuracy = 95.01%: 100%|███████████████████████████████| 13/13 [00:01<00:00, 12.54it/s]\n",
      "[9 / 15] Train: Loss = 0.11607, Accuracy = 96.05%: 100%|█████████████████████████████| 572/572 [00:14<00:00, 39.67it/s]\n",
      "[9 / 15]   Val: Loss = 0.14628, Accuracy = 95.12%: 100%|███████████████████████████████| 13/13 [00:00<00:00, 13.93it/s]\n",
      "[10 / 15] Train: Loss = 0.11146, Accuracy = 96.18%: 100%|████████████████████████████| 572/572 [00:14<00:00, 39.94it/s]\n",
      "[10 / 15]   Val: Loss = 0.14191, Accuracy = 95.29%: 100%|██████████████████████████████| 13/13 [00:00<00:00, 13.68it/s]\n",
      "[11 / 15] Train: Loss = 0.10736, Accuracy = 96.29%: 100%|████████████████████████████| 572/572 [00:14<00:00, 39.27it/s]\n",
      "[11 / 15]   Val: Loss = 0.13993, Accuracy = 95.18%: 100%|██████████████████████████████| 13/13 [00:01<00:00, 12.87it/s]\n",
      "[12 / 15] Train: Loss = 0.10405, Accuracy = 96.41%: 100%|████████████████████████████| 572/572 [00:14<00:00, 39.24it/s]\n",
      "[12 / 15]   Val: Loss = 0.13830, Accuracy = 95.39%: 100%|██████████████████████████████| 13/13 [00:00<00:00, 13.49it/s]\n",
      "[13 / 15] Train: Loss = 0.10109, Accuracy = 96.48%: 100%|████████████████████████████| 572/572 [00:14<00:00, 39.11it/s]\n",
      "[13 / 15]   Val: Loss = 0.14012, Accuracy = 95.21%: 100%|██████████████████████████████| 13/13 [00:01<00:00, 12.82it/s]\n",
      "[14 / 15] Train: Loss = 0.09858, Accuracy = 96.56%: 100%|████████████████████████████| 572/572 [00:14<00:00, 38.24it/s]\n",
      "[14 / 15]   Val: Loss = 0.13816, Accuracy = 95.37%: 100%|██████████████████████████████| 13/13 [00:01<00:00, 11.17it/s]\n",
      "[15 / 15] Train: Loss = 0.09629, Accuracy = 96.62%: 100%|████████████████████████████| 572/572 [00:14<00:00, 39.06it/s]\n",
      "[15 / 15]   Val: Loss = 0.13509, Accuracy = 95.32%: 100%|██████████████████████████████| 13/13 [00:01<00:00, 12.30it/s]\n"
     ]
    }
   ],
   "source": [
    "model = LSTMTaggerWithPretrainedEmbs(\n",
    "    embeddings=embeddings,\n",
    "    tagset_size=len(tag2ind)\n",
    ")\n",
    "\n",
    "criterion = nn.CrossEntropyLoss(ignore_index=0)\n",
    "optimizer = optim.Adam(model.parameters())\n",
    "\n",
    "fit(model, criterion, optimizer, train_data=(X_train, y_train), epochs_count=15,\n",
    "    batch_size=64, val_data=(X_val, y_val), val_batch_size=512)"
   ]
  },
  {
   "cell_type": "markdown",
   "metadata": {
    "id": "2Ne_8f24h8kg"
   },
   "source": [
    "**Задание** Оцените качество модели на тестовой выборке. Обратите внимание, вовсе не обязательно ограничиваться векторами из урезанной матрицы - вполне могут найтись слова в тесте, которых не было в трейне и для которых есть эмбеддинги.\n",
    "\n",
    "Добейтесь качества лучше прошлых моделей."
   ]
  },
  {
   "cell_type": "code",
   "execution_count": 30,
   "metadata": {},
   "outputs": [],
   "source": [
    "def test(model, criterion, test_data, batch_size):\n",
    "    model.eval()\n",
    "    \n",
    "    epoch_loss = 0\n",
    "    correct_count = 0\n",
    "    sum_count = 0\n",
    "    \n",
    "    batches_count = math.ceil(len(test_data[0]) / batch_size)\n",
    "    with torch.no_grad():\n",
    "        with tqdm(total=batches_count) as progress_bar:\n",
    "            \n",
    "            for i, (X_batch, y_batch) in enumerate(iterate_batches(test_data, batch_size)):\n",
    "                X_batch, y_batch = torch.LongTensor(X_batch), torch.LongTensor(y_batch)\n",
    "                logits = model(X_batch)\n",
    "\n",
    "                loss = calculate_loss(criterion, y_batch, logits)\n",
    "                epoch_loss += loss.item()\n",
    "                \n",
    "                cur_correct_count, cur_sum_count = calculate_acc(y_batch, logits)\n",
    "                correct_count += cur_correct_count\n",
    "                sum_count += cur_sum_count\n",
    "\n",
    "                progress_bar.update()\n",
    "                progress_bar.set_description('Loss = {:.5f}, Accuracy = {:.2%}'.format(\n",
    "                    loss.item(), cur_correct_count / cur_sum_count)\n",
    "                )\n",
    "                \n",
    "            progress_bar.set_description('Loss = {:.5f}, Accuracy = {:.2%}'.format(\n",
    "                epoch_loss / batches_count, correct_count / sum_count)\n",
    "            )\n",
    "\n",
    "    return epoch_loss / batches_count, correct_count / sum_count"
   ]
  },
  {
   "cell_type": "code",
   "execution_count": 31,
   "metadata": {},
   "outputs": [
    {
     "name": "stderr",
     "output_type": "stream",
     "text": [
      "Loss = 2.57998, Accuracy = 4.92%: 100%|████████████████████████████████████████████████| 28/28 [00:01<00:00, 15.21it/s]\n"
     ]
    },
    {
     "data": {
      "text/plain": [
       "(2.579976328781673, tensor(0.0492))"
      ]
     },
     "execution_count": 31,
     "metadata": {},
     "output_type": "execute_result"
    }
   ],
   "source": [
    "criterion = nn.CrossEntropyLoss(ignore_index=0)\n",
    "test(model, criterion, test_data=(X_test, y_test), batch_size=512)"
   ]
  },
  {
   "cell_type": "code",
   "execution_count": null,
   "metadata": {},
   "outputs": [],
   "source": []
  }
 ],
 "metadata": {
  "accelerator": "GPU",
  "colab": {
   "gpuType": "T4",
   "provenance": []
  },
  "kernelspec": {
   "display_name": "Python 3 (ipykernel)",
   "language": "python",
   "name": "python3"
  },
  "language_info": {
   "codemirror_mode": {
    "name": "ipython",
    "version": 3
   },
   "file_extension": ".py",
   "mimetype": "text/x-python",
   "name": "python",
   "nbconvert_exporter": "python",
   "pygments_lexer": "ipython3",
   "version": "3.10.9"
  }
 },
 "nbformat": 4,
 "nbformat_minor": 1
}
